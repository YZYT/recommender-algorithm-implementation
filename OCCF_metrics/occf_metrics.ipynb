{
 "cells": [
  {
   "cell_type": "code",
   "execution_count": 56,
   "metadata": {
    "collapsed": true,
    "pycharm": {
     "is_executing": false
    }
   },
   "outputs": [],
   "source": [
    "from math import sqrt, log, log10, log2\n",
    "from operator import itemgetter\n",
    "\n",
    "import numpy as np\n",
    "from scipy.linalg import svd\n",
    "import matplotlib.pyplot as plt\n",
    "from matplotlib.ticker import MultipleLocator\n",
    "from sklearn import metrics"
   ]
  },
  {
   "cell_type": "code",
   "execution_count": 76,
   "outputs": [],
   "source": [
    "class OCCF:\n",
    "    def __init__(self, records_train, records_test):\n",
    "        records = np.vstack([records_train, records_test])\n",
    "\n",
    "        self.n = records[:, 0].max() + 1\n",
    "        self.m = records[:, 1].max() + 1\n",
    "        \n",
    "        # Initial R\n",
    "        self.R = np.zeros([self.n, self.m])\n",
    "        for record in records_train:\n",
    "            if record[2] < 4:\n",
    "                continue\n",
    "            self.R[record[0], record[1]] = 1\n",
    "\n",
    "        # Initial R_test\n",
    "        self.R_test = np.zeros([self.n, self.m])\n",
    "        for record in records_test:\n",
    "            if record[2] < 4:\n",
    "                continue\n",
    "            self.R_test[record[0], record[1]] = 1\n",
    "        \n",
    "        # Initial indicator\n",
    "        y = np.where(self.R, 1, 0)\n",
    "        y_user = np.sum(y, axis=1)\n",
    "        y_item = np.sum(y, axis=0)\n",
    "        \n",
    "        y_test = np.where(self.R_test, 1, 0)\n",
    "        y_user_test = np.sum(y_test, axis=1)\n",
    "        y_item_test = np.sum(y_test, axis=0)\n",
    "\n",
    "        # Global average of rating\n",
    "        self.mu = np.sum(y) / self.n / self.m\n",
    "\n",
    "        # bias of item\n",
    "        self.b_i = np.where(y_item,\n",
    "                            y_item / self.n - self.mu,\n",
    "                            -10)\n",
    "\n",
    "        \n",
    "        # Initialize I\n",
    "        self.i_rec = np.zeros([self.n, K], dtype=np.int32)\n",
    "        for user in range(self.n):\n",
    "            items = np.where(self.R[user, :] == 0)[0]\n",
    "            self.i_rec[user] = sorted(items, key=lambda x: self.b_i[x], reverse=True)[:K]\n",
    "        \n",
    "        self.users_test = np.nonzero(y_user_test)[0]\n",
    "\n",
    "        # precision\n",
    "        self.pre = 0\n",
    "        self.pre_u = np.zeros(self.n)\n",
    "        for user in self.users_test:\n",
    "            self.pre_u[user] = self.R_test[user, self.i_rec[user]].sum() / K\n",
    "            self.pre += self.R_test[user, self.i_rec[user]].sum() / K\n",
    "        self.pre /= len(self.users_test)\n",
    "        print(round(self.pre, 4))\n",
    "\n",
    "        # recall\n",
    "        self.rec = 0\n",
    "        self.rec_u = np.zeros(self.n)\n",
    "        for user in self.users_test:\n",
    "            self.rec_u[user] = self.R_test[user, self.i_rec[user]].sum() / y_user_test[user].sum()\n",
    "            self.rec += self.R_test[user, self.i_rec[user]].sum() / y_user_test[user].sum()\n",
    "        self.rec /= len(self.users_test)\n",
    "        print(round(self.rec, 4))\n",
    "\n",
    "        # F1 score\n",
    "        self.f1_score = 0\n",
    "        for user in self.users_test:\n",
    "            self.f1_score += 2 / (1 / self.pre_u[user] + 1 / self.rec_u[user])\n",
    "        self.f1_score /= len(self.users_test)\n",
    "        print(round(self.f1_score, 4))\n",
    "\n",
    "        # NDCG\n",
    "        self.NDCG = 0\n",
    "        log_recip = np.array([1 / log(i + 2) for i in range(K)])\n",
    "\n",
    "        for user in self.users_test:\n",
    "            self.NDCG += self.R_test[user, self.i_rec[user]].dot(log_recip) / log_recip[:K].sum()\n",
    "            # self.NDCG += self.R_test[user, self.i_rec[user]].dot(log_recip) / log_recip[:min(K, len(self.i_rec[user]))].sum()\n",
    "        self.NDCG /= len(self.users_test)\n",
    "        print(round(self.NDCG, 4))\n",
    "\n",
    "        # 1-call\n",
    "        self.one_call = 0\n",
    "\n",
    "        for user in self.users_test:\n",
    "            self.one_call += self.R_test[user, self.i_rec[user]].sum() > 0\n",
    "            # self.NDCG += self.R_test[user, self.i_rec[user]].dot(log_recip) / log_recip[:min(K, len(self.i_rec[user]))].sum()\n",
    "        self.one_call /= len(self.users_test)\n",
    "        print(round(self.one_call, 4))\n",
    "\n",
    "        # MRR\n",
    "        self.MRR = 0\n",
    "        for user in self.users_test:\n",
    "            items = np.where(self.R[user, :] == 0)[0]\n",
    "            tmp = sorted(items, key=lambda x: self.b_i[x], reverse=True)\n",
    "            for k in range(len(tmp)):\n",
    "                if self.R_test[user, tmp[k]] > 0:\n",
    "                    self.MRR += 1 / (k + 1)\n",
    "                    break\n",
    "            # self.NDCG += self.R_test[user, self.i_rec[user]].dot(log_recip) / log_recip[:min(K, len(self.i_rec[user]))].sum()\n",
    "        self.MRR /= len(self.users_test)\n",
    "        print(round(self.MRR, 4))\n",
    "        \n",
    "        # MAP\n",
    "        self.MAP = 0\n",
    "        for user in self.users_test:\n",
    "            items = np.where(self.R[user, :] == 0)[0]\n",
    "            tmp = sorted(items, key=lambda x: self.b_i[x], reverse=True)\n",
    "            sum = 0\n",
    "            for k in range(len(tmp)):\n",
    "                if self.R_test[user, tmp[k]] > 0:\n",
    "                    sum += 1\n",
    "                    self.MAP += sum / (k + 1) / y_user_test[user].sum()\n",
    "        self.MAP /= len(self.users_test)\n",
    "        print(round(self.MAP, 4))\n",
    "        \n",
    "        # ARP\n",
    "        self.ARP = 0\n",
    "        for user in self.users_test:\n",
    "            items = np.where(self.R[user, :] == 0)[0]\n",
    "            tmp = sorted(items, key=lambda x: self.b_i[x], reverse=True)\n",
    "            for k in range(len(tmp)):\n",
    "                if self.R_test[user, tmp[k]] > 0:\n",
    "                    self.ARP += (k + 1) / (self.m - y_user[user].sum()) / y_user_test[user].sum()\n",
    "        self.ARP /= len(self.users_test)\n",
    "        print(round(self.ARP, 4))\n",
    "\n",
    "        # AUC\n",
    "        self.AUC = 0\n",
    "        for user in self.users_test:\n",
    "            items = np.where(self.R[user, :] == 0)[0]\n",
    "            tmp = sorted(items, key=lambda x: self.b_i[x], reverse=True)\n",
    "            sum = 0\n",
    "            res = 0\n",
    "            for k in range(len(tmp)):\n",
    "                if self.R_test[user, tmp[k]] < 1:\n",
    "                    res += sum\n",
    "                else:\n",
    "                    sum += 1\n",
    "            self.AUC += res / sum / (len(tmp) - sum)\n",
    "        self.AUC /= len(self.users_test)\n",
    "        print(round(self.AUC, 4))\n",
    "        \n",
    "    def get_pre(self, user):\n",
    "        items = np.zeros(self.R[user])[0]\n",
    "        # rannp.argsort(self.b_i[items])[::-1][:K]\n",
    "        "
   ],
   "metadata": {
    "collapsed": false,
    "pycharm": {
     "name": "#%%\n",
     "is_executing": false
    }
   }
  },
  {
   "cell_type": "code",
   "execution_count": 77,
   "outputs": [],
   "source": [
    "# Load the records\n",
    "records_train = np.loadtxt('../data/ml-100k/u1.base', dtype=np.int32)\n",
    "records_test = np.loadtxt('../data/ml-100k/u1.test', dtype=np.int32)\n",
    "\n",
    "# Preprocess\n",
    "records_train[:, :2] -= 1\n",
    "records_test[:, :2] -= 1\n",
    "\n",
    "K = 5"
   ],
   "metadata": {
    "collapsed": false,
    "pycharm": {
     "name": "#%%\n",
     "is_executing": false
    }
   }
  },
  {
   "cell_type": "code",
   "execution_count": 78,
   "outputs": [
    {
     "name": "stdout",
     "text": [
      "0.2338\n0.0571\n0.0775\n0.2532\n0.5877\n",
      "0.4657\n0.1516\n0.1327\n",
      "0.8734\n"
     ],
     "output_type": "stream"
    },
    {
     "name": "stderr",
     "text": [
      "/Library/Frameworks/Python.framework/Versions/3.7/lib/python3.7/site-packages/ipykernel_launcher.py:69: RuntimeWarning: divide by zero encountered in double_scalars\n"
     ],
     "output_type": "stream"
    }
   ],
   "source": [
    "occf = OCCF(records_train, records_test)\n"
   ],
   "metadata": {
    "collapsed": false,
    "pycharm": {
     "name": "#%%\n",
     "is_executing": false
    }
   }
  },
  {
   "cell_type": "code",
   "execution_count": 327,
   "outputs": [
    {
     "traceback": [
      "\u001b[0;31m---------------------------------------------------------------------------\u001b[0m",
      "\u001b[0;31mValueError\u001b[0m                                Traceback (most recent call last)",
      "\u001b[0;32m<ipython-input-327-a01bed6687cf>\u001b[0m in \u001b[0;36m<module>\u001b[0;34m\u001b[0m\n\u001b[1;32m      1\u001b[0m \u001b[0mttt\u001b[0m \u001b[0;34m=\u001b[0m \u001b[0mnp\u001b[0m\u001b[0;34m.\u001b[0m\u001b[0marray\u001b[0m\u001b[0;34m(\u001b[0m\u001b[0;34m[\u001b[0m\u001b[0;34m[\u001b[0m\u001b[0;36m1\u001b[0m\u001b[0;34m,\u001b[0m \u001b[0;36m2\u001b[0m\u001b[0;34m,\u001b[0m \u001b[0;36m3\u001b[0m\u001b[0;34m]\u001b[0m\u001b[0;34m,\u001b[0m \u001b[0;34m[\u001b[0m\u001b[0;36m4\u001b[0m\u001b[0;34m,\u001b[0m \u001b[0;36m5\u001b[0m\u001b[0;34m,\u001b[0m \u001b[0;36m6\u001b[0m\u001b[0;34m]\u001b[0m\u001b[0;34m]\u001b[0m\u001b[0;34m)\u001b[0m\u001b[0;34m\u001b[0m\u001b[0;34m\u001b[0m\u001b[0m\n\u001b[1;32m      2\u001b[0m \u001b[0ma\u001b[0m \u001b[0;34m=\u001b[0m \u001b[0mnp\u001b[0m\u001b[0;34m.\u001b[0m\u001b[0marray\u001b[0m\u001b[0;34m(\u001b[0m\u001b[0;34m[\u001b[0m\u001b[0;36m1\u001b[0m\u001b[0;34m,\u001b[0m \u001b[0;36m2\u001b[0m\u001b[0;34m]\u001b[0m\u001b[0;34m)\u001b[0m\u001b[0;34m\u001b[0m\u001b[0;34m\u001b[0m\u001b[0m\n\u001b[0;32m----> 3\u001b[0;31m \u001b[0mttt\u001b[0m\u001b[0;34m[\u001b[0m\u001b[0;36m0\u001b[0m\u001b[0;34m]\u001b[0m \u001b[0;34m=\u001b[0m \u001b[0ma\u001b[0m\u001b[0;34m\u001b[0m\u001b[0;34m\u001b[0m\u001b[0m\n\u001b[0m\u001b[1;32m      4\u001b[0m \u001b[0mttt\u001b[0m\u001b[0;34m\u001b[0m\u001b[0;34m\u001b[0m\u001b[0m\n\u001b[1;32m      5\u001b[0m \u001b[0;34m\u001b[0m\u001b[0m\n",
      "\u001b[0;31mValueError\u001b[0m: could not broadcast input array from shape (2) into shape (3)"
     ],
     "ename": "ValueError",
     "evalue": "could not broadcast input array from shape (2) into shape (3)",
     "output_type": "error"
    }
   ],
   "source": [],
   "metadata": {
    "collapsed": false,
    "pycharm": {
     "name": "#%%\n",
     "is_executing": false
    }
   }
  },
  {
   "cell_type": "code",
   "execution_count": null,
   "outputs": [],
   "source": [
    "\n"
   ],
   "metadata": {
    "collapsed": false,
    "pycharm": {
     "name": "#%%\n"
    }
   }
  }
 ],
 "metadata": {
  "kernelspec": {
   "display_name": "Python 3",
   "language": "python",
   "name": "python3"
  },
  "language_info": {
   "codemirror_mode": {
    "name": "ipython",
    "version": 2
   },
   "file_extension": ".py",
   "mimetype": "text/x-python",
   "name": "python",
   "nbconvert_exporter": "python",
   "pygments_lexer": "ipython2",
   "version": "2.7.6"
  },
  "pycharm": {
   "stem_cell": {
    "cell_type": "raw",
    "source": [],
    "metadata": {
     "collapsed": false
    }
   }
  }
 },
 "nbformat": 4,
 "nbformat_minor": 0
}