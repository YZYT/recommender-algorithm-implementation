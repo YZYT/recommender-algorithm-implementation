{
 "cells": [
  {
   "cell_type": "code",
   "execution_count": 79,
   "metadata": {
    "collapsed": true,
    "pycharm": {
     "name": "#%%\n",
     "is_executing": false
    }
   },
   "outputs": [],
   "source": [
    "from math import sqrt, log, log10, log2\n",
    "from operator import itemgetter\n",
    "\n",
    "import numpy as np\n",
    "from scipy.linalg import svd\n",
    "import matplotlib.pyplot as plt\n",
    "from matplotlib.ticker import MultipleLocator\n",
    "from sklearn import metrics\n",
    "\n"
   ]
  },
  {
   "cell_type": "code",
   "execution_count": 191,
   "outputs": [],
   "source": [
    "class OCCF:\n",
    "    def __init__(self, records_train, records_test):\n",
    "        records = np.vstack([records_train, records_test])\n",
    "\n",
    "        self.n = records[:, 0].max() + 1\n",
    "        self.m = records[:, 1].max() + 1\n",
    "        \n",
    "        # Initial R\n",
    "        self.R = np.zeros([self.n, self.m], dtype=bool)\n",
    "        for record in records_train:\n",
    "            if record[2] < 4:\n",
    "                continue\n",
    "            self.R[record[0], record[1]] = True\n",
    "\n",
    "        # Initial R_test\n",
    "        self.R_test = np.zeros([self.n, self.m], dtype=bool)\n",
    "        for record in records_test:\n",
    "            if record[2] < 4:\n",
    "                continue\n",
    "            self.R_test[record[0], record[1]] = True\n",
    "        \n",
    "        # Initial indicator\n",
    "        y = np.where(self.R, 1, 0)\n",
    "        y_user = np.sum(y, axis=1)\n",
    "        y_item = np.sum(y, axis=0)\n",
    "        \n",
    "        y_test = np.where(self.R_test, 1, 0)\n",
    "        self.y_user_test = np.sum(y_test, axis=1)\n",
    "        y_item_test = np.sum(y_test, axis=0)\n",
    "\n",
    "        # Global average of rating\n",
    "        self.mu = np.sum(y) / self.n / self.m\n",
    "\n",
    "        # bias of item\n",
    "        self.b_i = np.where(y_item,\n",
    "                            y_item / self.n - self.mu,\n",
    "                            -10)\n",
    "     \n",
    "        self.users_test = np.nonzero(self.y_user_test)[0]\n",
    "        \n",
    "        # Calculate similarity of users\n",
    "        self.s_u = np.zeros([self.n, self.n])\n",
    "        for u in range(self.n):\n",
    "            for w in range(u):\n",
    "                items_intersect = (self.R[u, :] * self.R[w, :]) != 0\n",
    "                items_union = (self.R[u, :] + self.R[w, :]) != 0\n",
    "                similarity = items_intersect.sum() / items_union.sum()\n",
    "\n",
    "                self.s_u[u, w] = self.s_u[w, u] = similarity\n",
    "\n",
    "        # normalize\n",
    "        for u in range(self.n):\n",
    "            self.s_u[u] /= self.s_u[u].max()\n",
    "\n",
    "        # Initialize the neighbours of users\n",
    "        self.n_u = np.zeros([self.n, K], dtype=np.int32)\n",
    "        for u in range(self.n):\n",
    "            self.n_u[u] = np.argsort(self.s_u[:, u])[-K:]\n",
    "\n",
    "        # Calculate similarity of items\n",
    "        self.s_i = np.zeros([self.m, self.m])\n",
    "        for i in range(self.m):\n",
    "            for j in range(i):\n",
    "                users_intersect = (self.R[:, i] * self.R[:, j]) != 0\n",
    "                users_union = (self.R[:, i] + self.R[:, j]) != 0\n",
    "                similarity = users_intersect.sum() / users_union.sum()\n",
    "                self.s_i[i, j] = self.s_i[j, i] = similarity\n",
    "\n",
    "        # normalize\n",
    "        for i in range(self.m):\n",
    "            self.s_i[i] /= self.s_i[i].max()\n",
    "\n",
    "        # Initialize the neighbours of items\n",
    "        self.n_i = np.zeros([self.m, K], dtype=np.int32)\n",
    "        for i in range(self.m):\n",
    "            self.n_i[i] = np.argsort(self.s_i[:, i])[-K:]\n",
    "                \n",
    "    def user_based_performance(self):\n",
    "        # Initialize I\n",
    "        self.i_rec_user_based = np.zeros([self.n, 5], dtype=np.int32)\n",
    "        for user in range(self.n):\n",
    "            items = np.where(self.R[user, :] == 0)[0]\n",
    "            ratings_predict = np.zeros(self.m)\n",
    "            for item in items:\n",
    "                # Neighbours\n",
    "                neighbours = np.intersect1d(self.n_u[user], np.where(self.R[:, item] != 0)[0])\n",
    "                # neighbours = np.where(self.R[:, item] != 0)[0]\n",
    "                # sort by similarity and select K of them\n",
    "                # neighbours_aug = np.vstack([neighbours, self.s_u[neighbours, user]])\n",
    "                # neighbours = neighbours[np.argsort(neighbours_aug[1, :])[-K:]]\n",
    "                # have zero neighbour who has rated this item\n",
    "                if len(neighbours) == 0:\n",
    "                    # ratings_predict[i] = self.r_u[user]\n",
    "                    continue\n",
    "                # predict \n",
    "                ratings_predict[item] = self.s_u[neighbours, user].sum()\n",
    "            \n",
    "            self.i_rec_user_based[user] = sorted(items, key=lambda x: ratings_predict[x], reverse=True)[:5]\n",
    "        \n",
    "        # return ratings_predict\n",
    "        self.get_pre(self.i_rec_user_based)\n",
    "        self.get_rec(self.i_rec_user_based)\n",
    "\n",
    "    def item_based_performance(self):\n",
    "        # Initialize I\n",
    "        self.i_rec_item_based = np.zeros([self.n, 5], dtype=np.int32)\n",
    "        for user in range(self.n):\n",
    "            items = np.where(self.R[user, :] == 0)[0]\n",
    "            ratings_predict = np.zeros(self.m)\n",
    "            for item in items:\n",
    "                # Neighbours\n",
    "                # neighbours = np.intersect1d(self.n_i[item], np.where(self.R[user] != 0)[0])\n",
    "                neighbours = np.where(self.R[user, :] != 0)[0]\n",
    "                # sort by similarity and select K of them\n",
    "                neighbours_aug = np.vstack([neighbours, self.s_i[neighbours, item]])\n",
    "                neighbours = neighbours[np.argsort(neighbours_aug[1, :])[-K:]]\n",
    "                # have zero neighbour who has rated this item\n",
    "                if len(neighbours) == 0:\n",
    "                    # ratings_predict[i] = self.r_u[user]\n",
    "                    continue\n",
    "                # predict\n",
    "                ratings_predict[item] = self.s_i[neighbours, item].sum()\n",
    "            \n",
    "            self.i_rec_item_based[user] = sorted(items, key=lambda x: ratings_predict[x], reverse=True)[:5]\n",
    "        \n",
    "        # return ratings_predict\n",
    "        self.get_pre(self.i_rec_item_based)\n",
    "        self.get_rec(self.i_rec_item_based)\n",
    "    \n",
    "    def hybrid_performance(self):\n",
    "        # Initialize I\n",
    "        self.i_rec_hybrid = np.zeros([self.n, 5], dtype=np.int32)\n",
    "        for user in range(self.n):\n",
    "            items = np.where(self.R[user, :] == 0)[0]\n",
    "            ratings_predict = np.zeros(self.m)\n",
    "            for item in items:\n",
    "                # Neighbours\n",
    "                neighbours = np.where(self.R[user, :] != 0)[0]\n",
    "                # sort by similarity and select K of them\n",
    "                neighbours_aug = np.vstack([neighbours, self.s_i[neighbours, item]])\n",
    "                neighbours = neighbours[np.argsort(neighbours_aug[1, :])[-K:]]\n",
    "                # have zero neighbour who has rated this item\n",
    "                if len(neighbours) == 0:\n",
    "                    # ratings_predict[i] = self.r_u[user]\n",
    "                    continue\n",
    "                # predict\n",
    "                ratings_predict[item] = self.s_i[neighbours, item].sum()\n",
    "                \n",
    "                neighbours = np.intersect1d(self.n_u[user], np.where(self.R[:, item] != 0)[0])\n",
    "                # neighbours = np.where(self.R[:, item] != 0)[0]\n",
    "                # sort by similarity and select K of them\n",
    "                # neighbours_aug = np.vstack([neighbours, self.s_u[neighbours, user]])\n",
    "                # neighbours = neighbours[np.argsort(neighbours_aug[1, :])[-K:]]\n",
    "                # have zero neighbour who has rated this item\n",
    "                if len(neighbours) == 0:\n",
    "                    # ratings_predict[i] = self.r_u[user]\n",
    "                    continue\n",
    "                # predict \n",
    "                ratings_predict[item] = (ratings_predict[item] + self.s_u[neighbours, user].sum()) / 2\n",
    "            \n",
    "            self.i_rec_hybrid[user] = sorted(items, key=lambda x: ratings_predict[x], reverse=True)[:5]\n",
    "        \n",
    "        # return ratings_predict\n",
    "        self.get_pre(self.i_rec_hybrid)\n",
    "        self.get_rec(self.i_rec_hybrid)\n",
    "        \n",
    "    def get_pre(self, i_rec):\n",
    "        self.pre = 0\n",
    "        self.pre_u = np.zeros(self.n)\n",
    "        for user in self.users_test:\n",
    "            self.pre_u[user] = self.R_test[user, i_rec[user]].sum() / 5\n",
    "            self.pre += self.R_test[user, i_rec[user]].sum() / 5\n",
    "        self.pre /= len(self.users_test)\n",
    "        print(round(self.pre, 4))\n",
    "    \n",
    "    def get_rec(self, i_rec):\n",
    "        self.rec = 0\n",
    "        self.rec_u = np.zeros(self.n)\n",
    "        for user in self.users_test:\n",
    "            self.rec_u[user] = self.R_test[user, i_rec[user]].sum() / self.y_user_test[user].sum()\n",
    "            self.rec += self.R_test[user, i_rec[user]].sum() / self.y_user_test[user].sum()\n",
    "        self.rec /= len(self.users_test)\n",
    "        print(round(self.rec, 4))"
   ],
   "metadata": {
    "collapsed": false,
    "pycharm": {
     "name": "#%%\n",
     "is_executing": false
    }
   }
  },
  {
   "cell_type": "code",
   "execution_count": 178,
   "outputs": [],
   "source": [
    "# Load the records\n",
    "records_train = np.loadtxt('../data/ml-100k/u1.base', dtype=np.int32)\n",
    "records_test = np.loadtxt('../data/ml-100k/u1.test', dtype=np.int32)\n",
    "\n",
    "# Preprocess\n",
    "records_train[:, :2] -= 1\n",
    "records_test[:, :2] -= 1\n",
    "\n",
    "K = 50"
   ],
   "metadata": {
    "collapsed": false,
    "pycharm": {
     "name": "#%%\n",
     "is_executing": false
    }
   }
  },
  {
   "cell_type": "code",
   "execution_count": 192,
   "outputs": [
    {
     "name": "stderr",
     "text": [
      "/Library/Frameworks/Python.framework/Versions/3.7/lib/python3.7/site-packages/ipykernel_launcher.py:53: RuntimeWarning: invalid value encountered in true_divide\n/Library/Frameworks/Python.framework/Versions/3.7/lib/python3.7/site-packages/ipykernel_launcher.py:66: RuntimeWarning: invalid value encountered in long_scalars\n"
     ],
     "output_type": "stream"
    }
   ],
   "source": [
    "occf = OCCF(records_train, records_test)\n"
   ],
   "metadata": {
    "collapsed": false,
    "pycharm": {
     "name": "#%%\n",
     "is_executing": false
    }
   }
  },
  {
   "cell_type": "code",
   "execution_count": 180,
   "outputs": [
    {
     "name": "stdout",
     "text": [
      "0.393\n0.1275\n"
     ],
     "output_type": "stream"
    }
   ],
   "source": [
    "occf.user_based_performance()"
   ],
   "metadata": {
    "collapsed": false,
    "pycharm": {
     "name": "#%%\n",
     "is_executing": false
    }
   }
  },
  {
   "cell_type": "code",
   "execution_count": 183,
   "outputs": [
    {
     "name": "stdout",
     "text": [
      "0.3654\n0.1175\n"
     ],
     "output_type": "stream"
    }
   ],
   "source": [
    "occf.item_based_performance()"
   ],
   "metadata": {
    "collapsed": false,
    "pycharm": {
     "name": "#%%\n",
     "is_executing": false
    }
   }
  },
  {
   "cell_type": "code",
   "execution_count": 193,
   "outputs": [
    {
     "name": "stdout",
     "text": [
      "0.3939\n0.132\n"
     ],
     "output_type": "stream"
    }
   ],
   "source": [
    "occf.hybrid_performance()"
   ],
   "metadata": {
    "collapsed": false,
    "pycharm": {
     "name": "#%%\n",
     "is_executing": false
    }
   }
  },
  {
   "cell_type": "code",
   "execution_count": 123,
   "outputs": [
    {
     "name": "stdout",
     "text": [
      "1.0\n"
     ],
     "output_type": "stream"
    },
    {
     "data": {
      "text/plain": "3"
     },
     "metadata": {},
     "output_type": "execute_result",
     "execution_count": 123
    }
   ],
   "source": [
    "print(occf.s_u.max())\n",
    "tt = np.array([1, 2, 3])\n",
    "tt.max()"
   ],
   "metadata": {
    "collapsed": false,
    "pycharm": {
     "name": "#%%\n",
     "is_executing": false
    }
   }
  },
  {
   "cell_type": "code",
   "execution_count": null,
   "outputs": [],
   "source": [
    "\n"
   ],
   "metadata": {
    "collapsed": false,
    "pycharm": {
     "name": "#%%\n"
    }
   }
  }
 ],
 "metadata": {
  "kernelspec": {
   "display_name": "Python 3",
   "language": "python",
   "name": "python3"
  },
  "language_info": {
   "codemirror_mode": {
    "name": "ipython",
    "version": 2
   },
   "file_extension": ".py",
   "mimetype": "text/x-python",
   "name": "python",
   "nbconvert_exporter": "python",
   "pygments_lexer": "ipython2",
   "version": "2.7.6"
  },
  "pycharm": {
   "stem_cell": {
    "cell_type": "raw",
    "source": [],
    "metadata": {
     "collapsed": false
    }
   }
  }
 },
 "nbformat": 4,
 "nbformat_minor": 0
}