{
 "cells": [
  {
   "cell_type": "code",
   "execution_count": 1,
   "outputs": [],
   "source": [
    "from math import sqrt\n",
    "from operator import itemgetter\n",
    "\n",
    "import numpy as np\n",
    "import matplotlib.pyplot as plt\n",
    "from matplotlib.ticker import MultipleLocator\n",
    "from sklearn import metrics\n"
   ],
   "metadata": {
    "collapsed": false,
    "pycharm": {
     "name": "#%%\n",
     "is_executing": false
    }
   }
  },
  {
   "cell_type": "code",
   "execution_count": 2,
   "outputs": [],
   "source": [
    "class CollaborativeFilter:\n",
    "    def __init__(self, records_train, records_test):\n",
    "        records = np.vstack([records_train, records_test])\n",
    "        n = len(np.unique(np.sort(records[:, 0])))\n",
    "        m = len(np.unique(np.sort(records[:, 1])))\n",
    "\n",
    "        # Initial R\n",
    "        R = np.zeros([n, m], dtype=np.int32)\n",
    "        self.R = R\n",
    "        self.n = n\n",
    "        for record in records_train:\n",
    "            R[record[0], record[1]] = record[2]\n",
    "\n",
    "        # Initial indicator\n",
    "        y = np.where(R, 1, 0)\n",
    "        y_user = np.sum(y, axis=1)\n",
    "        y_item = np.sum(y, axis=0)\n",
    "\n",
    "        # Global average of rating\n",
    "        self.r = np.sum(R) / np.sum(y)\n",
    "\n",
    "        # average rating of user\n",
    "        self.r_u = np.where(y_user,\n",
    "                            np.sum(R, axis=1) / y_user,\n",
    "                            self.r)\n",
    "\n",
    "        # average rating of item\n",
    "        self.r_i = np.where(y_item,\n",
    "                            np.sum(R, axis=0) / y_item,\n",
    "                            self.r)\n",
    "\n",
    "        # Calculate similarity of users\n",
    "        self.s_u = np.zeros([n, n])\n",
    "        for u in range(n):\n",
    "            for w in range(u):\n",
    "                items = (R[u, :] != 0) * (R[w, :] != 0)\n",
    "                if items.sum() == 0:\n",
    "                    continue\n",
    "                vec_u = R[u, items] - self.r_u[u]\n",
    "                vec_w = R[w, items] - self.r_u[w]\n",
    "                dot = vec_u.dot(vec_w)\n",
    "                mag_vec_u = sqrt(np.square(vec_u).sum())\n",
    "                mag_vec_w = sqrt(np.square(vec_w).sum())\n",
    "                if mag_vec_u == 0 or mag_vec_w == 0:\n",
    "                    continue\n",
    "                similarity = dot / mag_vec_u / mag_vec_w\n",
    "\n",
    "                self.s_u[u, w] = self.s_u[w, u] = similarity\n",
    "            \n",
    "            \n",
    "        # Calculate similarity of items\n",
    "        self.s_i = np.zeros([m, m])\n",
    "        for i in range(m):\n",
    "            for j in range(i):\n",
    "                users = (R[:, i] != 0) * (R[:, j] != 0)\n",
    "                if users.sum() == 0:\n",
    "                    continue\n",
    "                vec_i = R[users, i] - self.r_u[users]\n",
    "                vec_j = R[users, j] - self.r_u[users]\n",
    "\n",
    "                dot = vec_i.dot(vec_j)\n",
    "                mag_vec_i = sqrt(np.square(vec_i).sum())\n",
    "                mag_vec_j = sqrt(np.square(vec_j).sum())\n",
    "                if mag_vec_i == 0 or mag_vec_j == 0:\n",
    "                    continue\n",
    "                similarity = dot / mag_vec_i / mag_vec_j\n",
    "\n",
    "                self.s_i[i, j] = self.s_i[j, i] = similarity\n",
    "        \n",
    "            \n",
    "    def user_based_performance(self, records_test, K):\n",
    "        ratings_predict = np.zeros([len(records_test), 1])\n",
    "        for i in range(len(records_test)):\n",
    "            user = records_test[i, 0]\n",
    "            item = records_test[i, 1]\n",
    "\n",
    "            # Neighbours\n",
    "            neighbours = np.intersect1d(np.where(self.s_u[user, :] > 0)[0], np.where(self.R[:, item] != 0)[0])\n",
    "\n",
    "            # have zero neighbour who has rated this item\n",
    "            if len(neighbours) == 0:\n",
    "                ratings_predict[i] = self.r_u[user]\n",
    "                continue\n",
    "\n",
    "            # sort by similarity and select K of them\n",
    "            neighbours_aug = np.vstack([neighbours, self.s_u[user, neighbours]])\n",
    "            neighbours = neighbours[np.argsort(neighbours_aug[1, :])[-K:]]\n",
    "\n",
    "            # predict\n",
    "            ratings_predict[i] = (self.R[neighbours, item] - self.r_u[neighbours]).dot(self.s_u[user, neighbours])\n",
    "            ratings_predict[i] /= np.abs(self.s_u[user, neighbours]).sum()\n",
    "            ratings_predict[i] += self.r_u[user]\n",
    "\n",
    "        return ratings_predict\n",
    "\n",
    "    def item_based_performance(self, records_test, K):\n",
    "        ratings_predict = np.zeros([len(records_test), 1])\n",
    "        for i in range(len(records_test)):\n",
    "            user = records_test[i, 0]\n",
    "            item = records_test[i, 1]\n",
    "\n",
    "            # Neighbours\n",
    "            neighbours = np.intersect1d(np.where(self.s_i[:, item] > 0)[0], np.where(self.R[user, :] != 0)[0])\n",
    "\n",
    "            # have zero neighbour which was rated by the user\n",
    "            if len(neighbours) == 0:\n",
    "                ratings_predict[i] = self.r_u[user]\n",
    "                continue\n",
    "\n",
    "            # sort by similarity and select K of them\n",
    "            neighbours_aug = np.vstack([neighbours, self.s_i[item, neighbours]])\n",
    "            neighbours = neighbours[np.argsort(neighbours_aug[1, :])[-K:]]\n",
    "\n",
    "            # predict\n",
    "            ratings_predict[i] = self.R[user, neighbours].dot(self.s_i[item, neighbours])\n",
    "            ratings_predict[i] /= np.abs(self.s_i[item, neighbours]).sum()\n",
    "\n",
    "        return ratings_predict\n",
    "    "
   ],
   "metadata": {
    "collapsed": false,
    "pycharm": {
     "name": "#%%\n",
     "is_executing": false
    }
   }
  },
  {
   "cell_type": "code",
   "execution_count": 3,
   "outputs": [],
   "source": [
    "def score(rating_test, rating_predict):\n",
    "    return [round(sqrt(metrics.mean_squared_error(rating_test, rating_predict)), 4),\n",
    "            round(metrics.mean_absolute_error(rating_test, rating_predict), 4)]"
   ],
   "metadata": {
    "collapsed": false,
    "pycharm": {
     "name": "#%%\n",
     "is_executing": false
    }
   }
  },
  {
   "cell_type": "code",
   "execution_count": 4,
   "outputs": [],
   "source": [
    "# Load the records\n",
    "records_train = np.loadtxt('../data/ml-100k/u1.base', dtype=np.int32)\n",
    "records_test = np.loadtxt('../data/ml-100k/u1.test', dtype=np.int32)\n",
    "\n",
    "# Preprocess\n",
    "records_train[:, :2] -= 1\n",
    "records_test[:, :2] -= 1\n",
    "ratings_test = records_test[:, 2]\n",
    "records = np.vstack([records_train, records_test])"
   ],
   "metadata": {
    "collapsed": false,
    "pycharm": {
     "name": "#%%\n",
     "is_executing": false
    }
   }
  },
  {
   "cell_type": "code",
   "execution_count": 2,
   "outputs": [
    {
     "traceback": [
      "\u001b[0;31m---------------------------------------------------------------------------\u001b[0m",
      "\u001b[0;31mNameError\u001b[0m                                 Traceback (most recent call last)",
      "\u001b[0;32m<timed exec>\u001b[0m in \u001b[0;36m<module>\u001b[0;34m\u001b[0m\n",
      "\u001b[0;31mNameError\u001b[0m: name 'CollaborativeFilter' is not defined"
     ],
     "ename": "NameError",
     "evalue": "name 'CollaborativeFilter' is not defined",
     "output_type": "error"
    }
   ],
   "source": [
    "%%time\n",
    "threshold = 0\n",
    "K = 50\n",
    "usercf = CollaborativeFilter(records_train, records_test)"
   ],
   "metadata": {
    "collapsed": false,
    "pycharm": {
     "name": "#%%\n",
     "is_executing": false
    }
   }
  },
  {
   "cell_type": "code",
   "execution_count": null,
   "outputs": [],
   "source": [
    "%%time\n",
    "ratings_predict_user_based = usercf.user_based_performance(records_test, K)\n",
    "print(score(np.clip(ratings_predict_user_based, 1, 5), ratings_test))"
   ],
   "metadata": {
    "collapsed": false,
    "pycharm": {
     "name": "#%%\n"
    }
   }
  },
  {
   "cell_type": "code",
   "execution_count": 8,
   "outputs": [
    {
     "name": "stdout",
     "text": [
      "[0.9885, 0.7791]\nCPU times: user 2.1 s, sys: 5.27 ms, total: 2.1 s\nWall time: 2.1 s\n"
     ],
     "output_type": "stream"
    }
   ],
   "source": [
    "%%time\n",
    "ratings_predict_item_based = usercf.item_based_performance(records_test, K)\n",
    "\n",
    "print(score(np.clip(ratings_predict_item_based, 1, 5), ratings_test))"
   ],
   "metadata": {
    "collapsed": false,
    "pycharm": {
     "name": "#%%\n",
     "is_executing": false
    }
   }
  },
  {
   "cell_type": "code",
   "execution_count": 12,
   "outputs": [
    {
     "name": "stdout",
     "text": [
      "[0.9559, 0.7526]\n"
     ],
     "output_type": "stream"
    }
   ],
   "source": [
    "print(score(np.clip((ratings_predict_item_based + ratings_predict_user_based) / 2, 1, 5), ratings_test))"
   ],
   "metadata": {
    "collapsed": false,
    "pycharm": {
     "name": "#%%\n",
     "is_executing": false
    }
   }
  },
  {
   "cell_type": "code",
   "execution_count": 13,
   "outputs": [],
   "source": [
    "results = np.array([score(np.clip(ratings_predict_user_based, 1, 5), ratings_test),\n",
    "                    score(np.clip(ratings_predict_item_based, 1, 5), ratings_test),\n",
    "                    score(np.clip((ratings_predict_item_based + ratings_predict_user_based) / 2, 1, 5), ratings_test)])"
   ],
   "metadata": {
    "collapsed": false,
    "pycharm": {
     "name": "#%%\n",
     "is_executing": false
    }
   }
  },
  {
   "cell_type": "code",
   "execution_count": 14,
   "outputs": [
    {
     "data": {
      "text/plain": "array([[0.9554, 0.748 ],\n       [0.9885, 0.7791],\n       [0.9559, 0.7526]])"
     },
     "metadata": {},
     "output_type": "execute_result",
     "execution_count": 14
    }
   ],
   "source": [
    "results"
   ],
   "metadata": {
    "collapsed": false,
    "pycharm": {
     "name": "#%%\n",
     "is_executing": false
    }
   }
  },
  {
   "cell_type": "code",
   "execution_count": 16,
   "outputs": [
    {
     "name": "stdout",
     "text": [
      "(-0.05, 1.05)\n"
     ],
     "output_type": "stream"
    },
    {
     "data": {
      "text/plain": "<Figure size 576x396 with 1 Axes>",
      "image/png": "[encoded data removed]"
     },
     "metadata": {},
     "output_type": "display_data"
    }
   ],
   "source": [
    "# Plot the figure\n",
    "metrics = ['RMSE', 'RAE']\n",
    "labels = ['user-based CF', 'item-based CF', 'hybrid CF']\n",
    "plt.style.use('seaborn')\n",
    "fig, ax = plt.subplots()\n",
    "\n",
    "for result, label in zip(results, labels):\n",
    "    ax.plot(metrics, result, label=label)\n",
    "\n",
    "ax.legend(fontsize=\"x-large\", loc=2, bbox_to_anchor=(0.04 ,-0.2),borderaxespad = 0.) \n",
    "x_major_locator= MultipleLocator(1)\n",
    "\n",
    "ax.xaxis.set_major_locator(x_major_locator)\n",
    "\n",
    "# Format plot\n",
    "plt.title(\"Comparision between different prediction rules\", fontsize=24)\n",
    "plt.xlabel('Metrics', fontsize=16)\n",
    "plt.ylabel(\"Performance\", fontsize=16)\n",
    "plt.tick_params(axis='both', which='major', labelsize=16)\n",
    "\n",
    "print(plt.xlim())\n",
    "\n",
    "plt.xlim(-0.4, 1.4)\n",
    "\n",
    "plt.show()\n",
    "\n"
   ],
   "metadata": {
    "collapsed": false,
    "pycharm": {
     "name": "#%%\n",
     "is_executing": false
    }
   }
  },
  {
   "cell_type": "code",
   "execution_count": null,
   "outputs": [],
   "source": [
    "\n"
   ],
   "metadata": {
    "collapsed": false,
    "pycharm": {
     "name": "#%%\n"
    }
   }
  }
 ],
 "metadata": {
  "kernelspec": {
   "display_name": "Python 3",
   "language": "python",
   "name": "python3"
  },
  "language_info": {
   "codemirror_mode": {
    "name": "ipython",
    "version": 2
   },
   "file_extension": ".py",
   "mimetype": "text/x-python",
   "name": "python",
   "nbconvert_exporter": "python",
   "pygments_lexer": "ipython2",
   "version": "2.7.6"
  },
  "pycharm": {
   "stem_cell": {
    "cell_type": "raw",
    "source": [],
    "metadata": {
     "collapsed": false
    }
   }
  }
 },
 "nbformat": 4,
 "nbformat_minor": 0
}