{
 "cells": [
  {
   "cell_type": "code",
   "execution_count": null,
   "metadata": {
    "collapsed": true
   },
   "outputs": [],
   "source": []
  },
  {
   "cell_type": "code",
   "execution_count": 2,
   "outputs": [],
   "source": [
    "from math import sqrt\n",
    "from operator import itemgetter\n",
    "\n",
    "import numpy as np\n",
    "from scipy.linalg import svd\n",
    "import matplotlib.pyplot as plt\n",
    "from matplotlib.ticker import MultipleLocator\n",
    "from sklearn import metrics"
   ],
   "metadata": {
    "collapsed": false,
    "pycharm": {
     "name": "#%%\n",
     "is_executing": false
    }
   }
  },
  {
   "cell_type": "code",
   "execution_count": 16,
   "outputs": [],
   "source": [
    "class MatrixFactorization:\n",
    "    def __init__(self, records_train, records_test):\n",
    "        records = np.vstack([records_train, records_test])\n",
    "        self.n = len(np.unique(np.sort(records[:, 0])))\n",
    "        self.m = len(np.unique(np.sort(records[:, 1])))\n",
    "\n",
    "        # Initial R\n",
    "        self.R = np.zeros([self.n, self.m], dtype=np.int32)\n",
    "\n",
    "        for record in records_train:\n",
    "            self.R[record[0], record[1]] = record[2]\n",
    "\n",
    "        # Initial indicator\n",
    "        y = np.where(self.R, 1, 0)\n",
    "        y_user = np.sum(y, axis=1)\n",
    "        y_item = np.sum(y, axis=0)\n",
    "\n",
    "        # Global average of rating\n",
    "        self.r = np.sum(self.R) / np.sum(y)\n",
    "\n",
    "        # average rating of user\n",
    "        self.r_u = np.where(y_user,\n",
    "                            np.sum(self.R, axis=1) / y_user,\n",
    "                            self.r)\n",
    "\n",
    "        # average rating of item\n",
    "        self.r_i = np.where(y_item,\n",
    "                            np.sum(self.R, axis=0) / y_item,\n",
    "                            self.r)\n",
    "\n",
    "        # bias of user\n",
    "        self.b_u = np.where(y_user,\n",
    "                            np.sum(y * (self.R - self.r_i), axis=1) / y_user,\n",
    "                            0)\n",
    "\n",
    "        # bias of item\n",
    "        self.b_i = np.where(y_item,\n",
    "                            np.sum(y * (self.R - self.r_u.reshape(-1, 1)), axis=0) / y_item,\n",
    "                            0)\n",
    "        \n",
    "    def alternative_least_square(self, n_iter=5):\n",
    "\n",
    "        d = 20\n",
    "        alpha = 0.01\n",
    "        # Initialize\n",
    "        U = (np.random.randint(0, 1, size=(self.n, d)) - 0.5) * 0.01\n",
    "        V = (np.random.randint(0, 1, size=(self.m, d)) - 0.5) * 0.01\n",
    "\n",
    "   \n",
    "        for cur_iter in range(n_iter):\n",
    "            print(cur_iter)\n",
    "\n",
    "            for user in range(self.n):\n",
    "                items = np.where(self.R[user, :] != 0)[0]\n",
    "                A_u = np.zeros([d, d])\n",
    "                for item in items:\n",
    "                    A_u += V[item].T.dot(V[item]) + np.identity(d) * alpha\n",
    "                U[user, :] = self.R[user, :].dot(V).dot(np.linalg.pinv(A_u))\n",
    "                \n",
    "            for item in range(self.m):\n",
    "                users = np.where(self.R[:, item] != 0)[0]\n",
    "                A_i = np.zeros([d, d])\n",
    "                for user in users:\n",
    "                    A_i += U[user].T.dot(U[user]) + np.identity(d) * alpha\n",
    "                V[item, :] = self.R[:, item].dot(U).dot(np.linalg.pinv(A_i))\n",
    "                \n",
    "            ratings_predict_rsvd = performance(U, V, records_test)\n",
    "            print(score(np.clip(ratings_predict_rsvd, 1, 5), ratings_test))\n",
    "\n",
    "        return U, V"
   ],
   "metadata": {
    "collapsed": false,
    "pycharm": {
     "name": "#%%\n",
     "is_executing": false
    }
   }
  },
  {
   "cell_type": "code",
   "execution_count": 7,
   "outputs": [],
   "source": [
    "def score(ratings_test, ratings_predict):\n",
    "    return [round(sqrt(metrics.mean_squared_error(ratings_test, ratings_predict)), 4),\n",
    "            round(metrics.mean_absolute_error(ratings_test, ratings_predict), 4)]\n",
    "def performance(U, V, records_test):\n",
    "        return U.dot(V.T)[records_test[:, 0], records_test[:, 1]]"
   ],
   "metadata": {
    "collapsed": false,
    "pycharm": {
     "name": "#%%\n",
     "is_executing": false
    }
   }
  },
  {
   "cell_type": "code",
   "execution_count": 8,
   "outputs": [],
   "source": [
    "# Load the records\n",
    "records_train = np.loadtxt('../data/ml-100k/u1.base', dtype=np.int32)\n",
    "records_test = np.loadtxt('../data/ml-100k/u1.test', dtype=np.int32)\n",
    "\n",
    "# Preprocess\n",
    "records_train[:, :2] -= 1\n",
    "records_test[:, :2] -= 1\n",
    "ratings_test = records_test[:, 2]\n",
    "records = np.vstack([records_train, records_test])\n"
   ],
   "metadata": {
    "collapsed": false,
    "pycharm": {
     "name": "#%%\n",
     "is_executing": false
    }
   }
  },
  {
   "cell_type": "code",
   "execution_count": 17,
   "outputs": [
    {
     "name": "stderr",
     "text": [
      "/Library/Frameworks/Python.framework/Versions/3.7/lib/python3.7/site-packages/ipykernel_launcher.py:28: RuntimeWarning: invalid value encountered in true_divide\n/Library/Frameworks/Python.framework/Versions/3.7/lib/python3.7/site-packages/ipykernel_launcher.py:38: RuntimeWarning: invalid value encountered in true_divide\n"
     ],
     "output_type": "stream"
    },
    {
     "name": "stdout",
     "text": [
      "0\n",
      "[2.786, 2.5359]\n1\n",
      "[2.786, 2.5359]\n2\n",
      "[2.786, 2.5359]\n3\n",
      "[1.8614, 1.4617]\n4\n",
      "[1.8614, 1.4617]\n5\n",
      "[2.786, 2.5359]\n6\n",
      "[2.786, 2.5359]\n7\n",
      "[2.786, 2.5359]\n8\n",
      "[2.786, 2.5359]\n9\n",
      "[2.786, 2.5359]\n10\n",
      "[2.786, 2.5359]\n11\n",
      "[1.8614, 1.4617]\n12\n"
     ],
     "output_type": "stream"
    },
    {
     "traceback": [
      "\u001b[0;31m---------------------------------------------------------------------------\u001b[0m",
      "\u001b[0;31mKeyboardInterrupt\u001b[0m                         Traceback (most recent call last)",
      "\u001b[0;32m<timed exec>\u001b[0m in \u001b[0;36m<module>\u001b[0;34m\u001b[0m\n",
      "\u001b[0;32m<ipython-input-16-2121dd06228d>\u001b[0m in \u001b[0;36malternative_least_square\u001b[0;34m(self, n_iter)\u001b[0m\n\u001b[1;32m     55\u001b[0m                 \u001b[0mA_u\u001b[0m \u001b[0;34m=\u001b[0m \u001b[0mnp\u001b[0m\u001b[0;34m.\u001b[0m\u001b[0mzeros\u001b[0m\u001b[0;34m(\u001b[0m\u001b[0;34m[\u001b[0m\u001b[0md\u001b[0m\u001b[0;34m,\u001b[0m \u001b[0md\u001b[0m\u001b[0;34m]\u001b[0m\u001b[0;34m)\u001b[0m\u001b[0;34m\u001b[0m\u001b[0;34m\u001b[0m\u001b[0m\n\u001b[1;32m     56\u001b[0m                 \u001b[0;32mfor\u001b[0m \u001b[0mitem\u001b[0m \u001b[0;32min\u001b[0m \u001b[0mitems\u001b[0m\u001b[0;34m:\u001b[0m\u001b[0;34m\u001b[0m\u001b[0;34m\u001b[0m\u001b[0m\n\u001b[0;32m---> 57\u001b[0;31m                     \u001b[0mA_u\u001b[0m \u001b[0;34m+=\u001b[0m \u001b[0mV\u001b[0m\u001b[0;34m[\u001b[0m\u001b[0mitem\u001b[0m\u001b[0;34m]\u001b[0m\u001b[0;34m.\u001b[0m\u001b[0mT\u001b[0m\u001b[0;34m.\u001b[0m\u001b[0mdot\u001b[0m\u001b[0;34m(\u001b[0m\u001b[0mV\u001b[0m\u001b[0;34m[\u001b[0m\u001b[0mitem\u001b[0m\u001b[0;34m]\u001b[0m\u001b[0;34m)\u001b[0m \u001b[0;34m+\u001b[0m \u001b[0mnp\u001b[0m\u001b[0;34m.\u001b[0m\u001b[0midentity\u001b[0m\u001b[0;34m(\u001b[0m\u001b[0md\u001b[0m\u001b[0;34m)\u001b[0m \u001b[0;34m*\u001b[0m \u001b[0malpha\u001b[0m\u001b[0;34m\u001b[0m\u001b[0;34m\u001b[0m\u001b[0m\n\u001b[0m\u001b[1;32m     58\u001b[0m                 \u001b[0mU\u001b[0m\u001b[0;34m[\u001b[0m\u001b[0muser\u001b[0m\u001b[0;34m,\u001b[0m \u001b[0;34m:\u001b[0m\u001b[0;34m]\u001b[0m \u001b[0;34m=\u001b[0m \u001b[0mself\u001b[0m\u001b[0;34m.\u001b[0m\u001b[0mR\u001b[0m\u001b[0;34m[\u001b[0m\u001b[0muser\u001b[0m\u001b[0;34m,\u001b[0m \u001b[0;34m:\u001b[0m\u001b[0;34m]\u001b[0m\u001b[0;34m.\u001b[0m\u001b[0mdot\u001b[0m\u001b[0;34m(\u001b[0m\u001b[0mV\u001b[0m\u001b[0;34m)\u001b[0m\u001b[0;34m.\u001b[0m\u001b[0mdot\u001b[0m\u001b[0;34m(\u001b[0m\u001b[0mnp\u001b[0m\u001b[0;34m.\u001b[0m\u001b[0mlinalg\u001b[0m\u001b[0;34m.\u001b[0m\u001b[0mpinv\u001b[0m\u001b[0;34m(\u001b[0m\u001b[0mA_u\u001b[0m\u001b[0;34m)\u001b[0m\u001b[0;34m)\u001b[0m\u001b[0;34m\u001b[0m\u001b[0;34m\u001b[0m\u001b[0m\n\u001b[1;32m     59\u001b[0m \u001b[0;34m\u001b[0m\u001b[0m\n",
      "\u001b[0;31mKeyboardInterrupt\u001b[0m: "
     ],
     "ename": "KeyboardInterrupt",
     "evalue": "",
     "output_type": "error"
    }
   ],
   "source": [
    "%%time\n",
    "mf = MatrixFactorization(records_train, records_test)\n",
    "\n",
    "mf.alternative_least_square(20)\n"
   ],
   "metadata": {
    "collapsed": false,
    "pycharm": {
     "name": "#%%\n",
     "is_executing": false
    }
   }
  },
  {
   "cell_type": "code",
   "execution_count": 11,
   "outputs": [
    {
     "name": "stdout",
     "text": [
      "[11 22]\n"
     ],
     "output_type": "stream"
    }
   ],
   "source": [
    "tt = np.array([[0, 1, 3], [4, 1, 6]])\n",
    "gg = np.array([[1, 2], [1, 2], [1, 2]])\n",
    "print(tt[1, :].dot(gg))"
   ],
   "metadata": {
    "collapsed": false,
    "pycharm": {
     "name": "#%%\n",
     "is_executing": false
    }
   }
  },
  {
   "cell_type": "code",
   "execution_count": null,
   "outputs": [],
   "source": [
    "\n"
   ],
   "metadata": {
    "collapsed": false,
    "pycharm": {
     "name": "#%%\n"
    }
   }
  }
 ],
 "metadata": {
  "kernelspec": {
   "display_name": "Python 3",
   "language": "python",
   "name": "python3"
  },
  "language_info": {
   "codemirror_mode": {
    "name": "ipython",
    "version": 2
   },
   "file_extension": ".py",
   "mimetype": "text/x-python",
   "name": "python",
   "nbconvert_exporter": "python",
   "pygments_lexer": "ipython2",
   "version": "2.7.6"
  },
  "pycharm": {
   "stem_cell": {
    "cell_type": "raw",
    "source": [],
    "metadata": {
     "collapsed": false
    }
   }
  }
 },
 "nbformat": 4,
 "nbformat_minor": 0
}