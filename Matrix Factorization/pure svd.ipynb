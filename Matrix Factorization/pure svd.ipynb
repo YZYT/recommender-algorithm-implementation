{
 "cells": [
  {
   "cell_type": "code",
   "execution_count": 3,
   "metadata": {
    "collapsed": true,
    "pycharm": {
     "is_executing": false
    }
   },
   "outputs": [],
   "source": [
    "from math import sqrt\n",
    "from operator import itemgetter\n",
    "\n",
    "import numpy as np\n",
    "from scipy.linalg import svd\n",
    "import matplotlib.pyplot as plt\n",
    "from matplotlib.ticker import MultipleLocator\n",
    "from sklearn import metrics\n",
    "from MF import PureSingularValueDecomposition"
   ]
  },
  {
   "cell_type": "code",
   "execution_count": 4,
   "outputs": [],
   "source": [
    "class RegularizedSingularValueDecomposition:\n",
    "    def __init__(self, records_train, records_test):\n",
    "        records = np.vstack([records_train, records_test])\n",
    "        self.n = len(np.unique(np.sort(records[:, 0])))\n",
    "        self.m = len(np.unique(np.sort(records[:, 1])))\n",
    "\n",
    "        # Initial R\n",
    "        self.R = np.zeros([self.n, self.m], dtype=np.int32)\n",
    "\n",
    "        for record in records_train:\n",
    "            self.R[record[0], record[1]] = record[2]\n",
    "\n",
    "        # Initial indicator\n",
    "        y = np.where(self.R, 1, 0)\n",
    "        y_user = np.sum(y, axis=1)\n",
    "        y_item = np.sum(y, axis=0)\n",
    "\n",
    "        # Global average of rating\n",
    "        self.r = np.sum(self.R) / np.sum(y)\n",
    "\n",
    "        # average rating of user\n",
    "        self.r_u = np.where(y_user,\n",
    "                            np.sum(self.R, axis=1) / y_user,\n",
    "                            self.r)\n",
    "\n",
    "        # average rating of item\n",
    "        self.r_i = np.where(y_item,\n",
    "                            np.sum(self.R, axis=0) / y_item,\n",
    "                            self.r)\n",
    "\n",
    "        # bias of user\n",
    "        self.b_u = np.where(y_user,\n",
    "                            np.sum(y * (self.R - self.r_i), axis=1) / y_user,\n",
    "                            0)\n",
    "\n",
    "        # bias of item\n",
    "        self.b_i = np.where(y_item,\n",
    "                            np.sum(y * (self.R - self.r_u.reshape(-1, 1)), axis=0) / y_item,\n",
    "                            0)\n",
    "        \n",
    "    def gradient_descent(self, n_iter=5):\n",
    "\n",
    "        alpha = 0.01\n",
    "        d = 20\n",
    "        \n",
    "        # Initialize\n",
    "        U = (np.random.randint(0, 1, size=(self.n, d)) - 0.5) * 0.01\n",
    "        V = (np.random.randint(0, 1, size=(self.m, d)) - 0.5) * 0.01\n",
    "        mu = self.r\n",
    "        b_i = self.b_i\n",
    "        b_u = self.b_u\n",
    "        \n",
    "        eta = 0.01\n",
    "        \n",
    "        def dJ_sgd(mu, b_u, b_i, U, V, r):\n",
    "            e = r - (mu + b_u + b_i + U.dot(V))\n",
    "            return -e, -e + alpha * b_u, -e + alpha * b_i, -e * V + alpha * U, -e * U + alpha * V\n",
    "        \n",
    "        for cur_iter in range(n_iter):\n",
    "            print(cur_iter)\n",
    "            ratings = np.where(self.R != 0)\n",
    "            num = len(ratings[0])\n",
    "            indexes = np.random.permutation(num)\n",
    "            users = ratings[0][indexes]\n",
    "            items = ratings[1][indexes]\n",
    "\n",
    "            for i in range(num):\n",
    "                user = users[i]\n",
    "                item = items[i]\n",
    "                gradient_mu, gradient_b_u, gradient_b_i, gradient_U, gradient_V = dJ_sgd(mu, b_u[user], b_i[item], U[user, :], V[item, :], self.R[user, item])\n",
    "                mu -= eta * gradient_mu\n",
    "                b_u[user] -= eta * gradient_b_u\n",
    "                b_i[item] -= eta * gradient_b_i\n",
    "                U[user, :] -= eta * gradient_U\n",
    "                V[item, :] -= eta * gradient_V\n",
    "                \n",
    "                # b_u -= eta * gradient_b_u\n",
    "                # b_i -= eta * gradient_b_i\n",
    "                # U -= eta * gradient_U\n",
    "                # V -= eta * gradient_V\n",
    "                \n",
    "            eta = eta * 0.9\n",
    "            ratings_predict_rsvd = performance(mu, b_u, b_i, U, V, records_test)\n",
    "            print(score(np.clip(ratings_predict_rsvd, 1, 5), ratings_test))\n",
    "\n",
    "        return mu, b_u, b_i, U, V"
   ],
   "metadata": {
    "collapsed": false,
    "pycharm": {
     "name": "#%%\n",
     "is_executing": false
    }
   }
  },
  {
   "cell_type": "code",
   "execution_count": 5,
   "outputs": [],
   "source": [
    "class Nomu:\n",
    "    def __init__(self, records_train, records_test):\n",
    "        records = np.vstack([records_train, records_test])\n",
    "        self.n = len(np.unique(np.sort(records[:, 0])))\n",
    "        self.m = len(np.unique(np.sort(records[:, 1])))\n",
    "\n",
    "        # Initial R\n",
    "        self.R = np.zeros([self.n, self.m], dtype=np.int32)\n",
    "\n",
    "        for record in records_train:\n",
    "            self.R[record[0], record[1]] = record[2]\n",
    "\n",
    "        # Initial indicator\n",
    "        y = np.where(self.R, 1, 0)\n",
    "        y_user = np.sum(y, axis=1)\n",
    "        y_item = np.sum(y, axis=0)\n",
    "\n",
    "        # Global average of rating\n",
    "        self.r = np.sum(self.R) / np.sum(y)\n",
    "\n",
    "        # average rating of user\n",
    "        self.r_u = np.where(y_user,\n",
    "                            np.sum(self.R, axis=1) / y_user,\n",
    "                            self.r)\n",
    "\n",
    "        # average rating of item\n",
    "        self.r_i = np.where(y_item,\n",
    "                            np.sum(self.R, axis=0) / y_item,\n",
    "                            self.r)\n",
    "\n",
    "        # bias of user\n",
    "        self.b_u = np.where(y_user,\n",
    "                            np.sum(y * (self.R - self.r_i), axis=1) / y_user,\n",
    "                            0)\n",
    "\n",
    "        # bias of item\n",
    "        self.b_i = np.where(y_item,\n",
    "                            np.sum(y * (self.R - self.r_u.reshape(-1, 1)), axis=0) / y_item,\n",
    "                            0)\n",
    "        \n",
    "    def gradient_descent(self, n_iter=5):\n",
    "\n",
    "        alpha = 0.01\n",
    "        d = 20\n",
    "        \n",
    "        # Initialize\n",
    "        U = (np.random.randint(0, 1, size=(self.n, d)) - 0.5) * 0.01\n",
    "        V = (np.random.randint(0, 1, size=(self.m, d)) - 0.5) * 0.01\n",
    "        mu = self.r\n",
    "        b_i = self.b_i\n",
    "        b_u = self.b_u\n",
    "        \n",
    "        eta = 0.01\n",
    "        \n",
    "        def dJ_sgd(mu, b_u, b_i, U, V, r):\n",
    "            e = r - (mu + b_u + b_i + U.dot(V))\n",
    "            return -e, -e + alpha * b_u, -e + alpha * b_i, -e * V + alpha * U, -e * U + alpha * V\n",
    "        \n",
    "        for cur_iter in range(n_iter):\n",
    "            print(cur_iter)\n",
    "            ratings = np.where(self.R != 0)\n",
    "            num = len(ratings[0])\n",
    "            indexes = np.random.permutation(num)\n",
    "            users = ratings[0][indexes]\n",
    "            items = ratings[1][indexes]\n",
    "\n",
    "            for i in range(num):\n",
    "                user = users[i]\n",
    "                item = items[i]\n",
    "                gradient_mu, gradient_b_u, gradient_b_i, gradient_U, gradient_V = dJ_sgd(mu, b_u[user], b_i[item], U[user, :], V[item, :], self.R[user, item])\n",
    "                # mu -= eta * gradient_mu\n",
    "                b_u[user] -= eta * gradient_b_u\n",
    "                b_i[item] -= eta * gradient_b_i\n",
    "                U[user, :] -= eta * gradient_U\n",
    "                V[item, :] -= eta * gradient_V\n",
    "                \n",
    "                # b_u -= eta * gradient_b_u\n",
    "                # b_i -= eta * gradient_b_i\n",
    "                # U -= eta * gradient_U\n",
    "                # V -= eta * gradient_V\n",
    "                \n",
    "            eta = eta * 0.9\n",
    "            ratings_predict_rsvd = performance(mu, b_u, b_i, U, V, records_test)\n",
    "            print(score(np.clip(ratings_predict_rsvd, 1, 5), ratings_test))\n",
    "\n",
    "        return mu, b_u, b_i, U, V"
   ],
   "metadata": {
    "collapsed": false,
    "pycharm": {
     "name": "#%%\n",
     "is_executing": false
    }
   }
  },
  {
   "cell_type": "code",
   "execution_count": 10,
   "outputs": [],
   "source": [
    "class MatrixFactorization:\n",
    "    def __init__(self, records_train, records_test):\n",
    "        records = np.vstack([records_train, records_test])\n",
    "        self.n = len(np.unique(np.sort(records[:, 0])))\n",
    "        self.m = len(np.unique(np.sort(records[:, 1])))\n",
    "\n",
    "        # Initial R\n",
    "        self.R = np.zeros([self.n, self.m], dtype=np.int32)\n",
    "\n",
    "        for record in records_train:\n",
    "            self.R[record[0], record[1]] = record[2]\n",
    "\n",
    "        # Initial indicator\n",
    "        y = np.where(self.R, 1, 0)\n",
    "        y_user = np.sum(y, axis=1)\n",
    "        y_item = np.sum(y, axis=0)\n",
    "\n",
    "        # Global average of rating\n",
    "        self.r = np.sum(self.R) / np.sum(y)\n",
    "\n",
    "        # average rating of user\n",
    "        self.r_u = np.where(y_user,\n",
    "                            np.sum(self.R, axis=1) / y_user,\n",
    "                            self.r)\n",
    "\n",
    "        # average rating of item\n",
    "        self.r_i = np.where(y_item,\n",
    "                            np.sum(self.R, axis=0) / y_item,\n",
    "                            self.r)\n",
    "\n",
    "        # bias of user\n",
    "        self.b_u = np.where(y_user,\n",
    "                            np.sum(y * (self.R - self.r_i), axis=1) / y_user,\n",
    "                            0)\n",
    "\n",
    "        # bias of item\n",
    "        self.b_i = np.where(y_item,\n",
    "                            np.sum(y * (self.R - self.r_u.reshape(-1, 1)), axis=0) / y_item,\n",
    "                            0)\n",
    "        \n",
    "    def gradient_descent(self, n_iter=5000):\n",
    "\n",
    "\n",
    "        R_svd = np.where(self.R == 0,\n",
    "                          np.zeros(shape=self.R.shape) + self.r_u.reshape(-1, 1),\n",
    "                          self.R)\n",
    "        # SVD\n",
    "        U, s, VT = svd(R_svd)\n",
    "\n",
    "        d = 20\n",
    "        Sigma = np.zeros([d, d])\n",
    "        for i in range(d):\n",
    "            Sigma[i][i] = s[i]\n",
    "        \n",
    "        U = U[:, :d].dot(Sigma)\n",
    "        V = VT[:d, :].T\n",
    "        \n",
    "        def performance():\n",
    "            return U.dot(V.T)[records_test[:, 0], records_test[:, 1]]\n",
    "        ratings_predict_rsvd = performance()\n",
    "        print(score(np.clip(ratings_predict_rsvd, 1, 5), ratings_test))\n",
    "        print(\"GG\")\n",
    "        eta = 0.0001\n",
    "        alpha = 0.0001\n",
    "        mu = self.r\n",
    "        \n",
    "        def dJ_sgd(U, V, r):\n",
    "            e = r - U.dot(V)\n",
    "            return -e * V + alpha * U, -e * U + alpha * V\n",
    "\n",
    "        for cur_iter in range(n_iter):\n",
    "            print(cur_iter)\n",
    "            ratings = np.where(self.R != 0)\n",
    "            num = len(ratings[0])\n",
    "            indexes = np.random.permutation(num)\n",
    "            users = ratings[0][indexes]\n",
    "            items = ratings[1][indexes]\n",
    "            \n",
    "            for i in range(num):\n",
    "                user = users[i]\n",
    "                item = items[i]\n",
    "                gradient_U, gradient_V = dJ_sgd(U[user, :], V[item, :], self.R[user, item])\n",
    "                \n",
    "                U[user, :] -= eta * gradient_U\n",
    "                V[item, :] -= eta * gradient_V\n",
    "                ratings_predict_rsvd = performance()\n",
    "                if not ratings_predict_rsvd.min() > -10:\n",
    "                    print(i)\n",
    "                    break\n",
    "                # U -= eta * gradient_U\n",
    "                # V -= eta * gradient_V\n",
    "                \n",
    "            eta = eta * 0.9\n",
    "            ratings_predict_rsvd = performance()\n",
    "            # print(ratings_predict_rsvd.min() > -10)\n",
    "            # print(ratings_predict_rsvd[:20])\n",
    "            print(score(np.clip(ratings_predict_rsvd, 1, 5), ratings_test))\n",
    "\n",
    "        return"
   ],
   "metadata": {
    "collapsed": false,
    "pycharm": {
     "name": "#%%\n",
     "is_executing": false
    }
   }
  },
  {
   "cell_type": "code",
   "execution_count": 7,
   "outputs": [],
   "source": [
    "def score(ratings_test, ratings_predict):\n",
    "    return [round(sqrt(metrics.mean_squared_error(ratings_test, ratings_predict)), 4),\n",
    "            round(metrics.mean_absolute_error(ratings_test, ratings_predict), 4)]\n",
    "def performance(mu, b_u, b_i, U, V, records_test):\n",
    "        return mu + b_u[records_test[:, 0]] + b_i[records_test[:, 1]] + U.dot(V.T)[records_test[:, 0], records_test[:, 1]]"
   ],
   "metadata": {
    "collapsed": false,
    "pycharm": {
     "name": "#%%\n",
     "is_executing": false
    }
   }
  },
  {
   "cell_type": "code",
   "execution_count": 8,
   "outputs": [],
   "source": [
    "# Load the records\n",
    "records_train = np.loadtxt('../data/ml-100k/u1.base', dtype=np.int32)\n",
    "records_test = np.loadtxt('../data/ml-100k/u1.test', dtype=np.int32)\n",
    "\n",
    "# Preprocess\n",
    "records_train[:, :2] -= 1\n",
    "records_test[:, :2] -= 1\n",
    "ratings_test = records_test[:, 2]\n",
    "records = np.vstack([records_train, records_test])"
   ],
   "metadata": {
    "collapsed": false,
    "pycharm": {
     "name": "#%%\n",
     "is_executing": false
    }
   }
  },
  {
   "cell_type": "code",
   "execution_count": 104,
   "outputs": [
    {
     "name": "stderr",
     "text": [
      "/Users/mac/Downloads/recommender-algorithm-implementation/Matrix Factorization/MF.py:39: RuntimeWarning: invalid value encountered in true_divide\n  np.sum(self.R, axis=0) / y_item,\n"
     ],
     "output_type": "stream"
    },
    {
     "name": "stdout",
     "text": [
      "CPU times: user 3.93 s, sys: 451 ms, total: 4.38 s\nWall time: 889 ms\n"
     ],
     "output_type": "stream"
    }
   ],
   "source": [
    "%%time\n",
    "psvd = PureSingularValueDecomposition(records_train, records_test)"
   ],
   "metadata": {
    "collapsed": false,
    "pycharm": {
     "name": "#%%\n",
     "is_executing": false
    }
   }
  },
  {
   "cell_type": "code",
   "execution_count": 105,
   "outputs": [
    {
     "name": "stdout",
     "text": [
      "[1.017, 0.8058]\n"
     ],
     "output_type": "stream"
    }
   ],
   "source": [
    "ratings_predict = psvd.performance(records_test)\n",
    "# ratings_predict.max()\n",
    "\n",
    "print(score(np.clip(ratings_predict, 1, 5), ratings_test))\n",
    "# score(np.clip(ratings_predict, 1, 5), ratings_test)"
   ],
   "metadata": {
    "collapsed": false,
    "pycharm": {
     "name": "#%%\n",
     "is_executing": false
    }
   }
  },
  {
   "cell_type": "code",
   "execution_count": 88,
   "outputs": [
    {
     "name": "stderr",
     "text": [
      "/Library/Frameworks/Python.framework/Versions/3.7/lib/python3.7/site-packages/ipykernel_launcher.py:28: RuntimeWarning: invalid value encountered in true_divide\n/Library/Frameworks/Python.framework/Versions/3.7/lib/python3.7/site-packages/ipykernel_launcher.py:38: RuntimeWarning: invalid value encountered in true_divide\n"
     ],
     "output_type": "stream"
    },
    {
     "name": "stdout",
     "text": [
      "0\n",
      "[0.9606, 0.7522]\n1\n",
      "[0.9566, 0.7543]\n2\n",
      "[0.9568, 0.7542]\n3\n",
      "[0.9569, 0.7515]\n4\n",
      "[0.9576, 0.7589]\n5\n",
      "[0.9558, 0.7549]\n6\n",
      "[0.9563, 0.7507]\n7\n",
      "[0.9551, 0.7528]\n8\n",
      "[0.9559, 0.7507]\n9\n",
      "[0.9577, 0.7494]\n10\n",
      "[0.9556, 0.7551]\n11\n"
     ],
     "output_type": "stream"
    },
    {
     "traceback": [
      "\u001b[0;31m---------------------------------------------------------------------------\u001b[0m",
      "\u001b[0;31mKeyboardInterrupt\u001b[0m                         Traceback (most recent call last)",
      "\u001b[0;32m<timed exec>\u001b[0m in \u001b[0;36m<module>\u001b[0;34m\u001b[0m\n",
      "\u001b[0;32m<ipython-input-87-2656622cada9>\u001b[0m in \u001b[0;36mgradient_descent\u001b[0;34m(self, n_iter)\u001b[0m\n\u001b[1;32m     68\u001b[0m                 \u001b[0muser\u001b[0m \u001b[0;34m=\u001b[0m \u001b[0musers\u001b[0m\u001b[0;34m[\u001b[0m\u001b[0mi\u001b[0m\u001b[0;34m]\u001b[0m\u001b[0;34m\u001b[0m\u001b[0;34m\u001b[0m\u001b[0m\n\u001b[1;32m     69\u001b[0m                 \u001b[0mitem\u001b[0m \u001b[0;34m=\u001b[0m \u001b[0mitems\u001b[0m\u001b[0;34m[\u001b[0m\u001b[0mi\u001b[0m\u001b[0;34m]\u001b[0m\u001b[0;34m\u001b[0m\u001b[0;34m\u001b[0m\u001b[0m\n\u001b[0;32m---> 70\u001b[0;31m                 \u001b[0mgradient_mu\u001b[0m\u001b[0;34m,\u001b[0m \u001b[0mgradient_b_u\u001b[0m\u001b[0;34m,\u001b[0m \u001b[0mgradient_b_i\u001b[0m\u001b[0;34m,\u001b[0m \u001b[0mgradient_U\u001b[0m\u001b[0;34m,\u001b[0m \u001b[0mgradient_V\u001b[0m \u001b[0;34m=\u001b[0m \u001b[0mdJ_sgd\u001b[0m\u001b[0;34m(\u001b[0m\u001b[0mmu\u001b[0m\u001b[0;34m,\u001b[0m \u001b[0mb_u\u001b[0m\u001b[0;34m[\u001b[0m\u001b[0muser\u001b[0m\u001b[0;34m]\u001b[0m\u001b[0;34m,\u001b[0m \u001b[0mb_i\u001b[0m\u001b[0;34m[\u001b[0m\u001b[0mitem\u001b[0m\u001b[0;34m]\u001b[0m\u001b[0;34m,\u001b[0m \u001b[0mU\u001b[0m\u001b[0;34m[\u001b[0m\u001b[0muser\u001b[0m\u001b[0;34m,\u001b[0m \u001b[0;34m:\u001b[0m\u001b[0;34m]\u001b[0m\u001b[0;34m,\u001b[0m \u001b[0mV\u001b[0m\u001b[0;34m[\u001b[0m\u001b[0mitem\u001b[0m\u001b[0;34m,\u001b[0m \u001b[0;34m:\u001b[0m\u001b[0;34m]\u001b[0m\u001b[0;34m,\u001b[0m \u001b[0mself\u001b[0m\u001b[0;34m.\u001b[0m\u001b[0mR\u001b[0m\u001b[0;34m[\u001b[0m\u001b[0muser\u001b[0m\u001b[0;34m,\u001b[0m \u001b[0mitem\u001b[0m\u001b[0;34m]\u001b[0m\u001b[0;34m)\u001b[0m\u001b[0;34m\u001b[0m\u001b[0;34m\u001b[0m\u001b[0m\n\u001b[0m\u001b[1;32m     71\u001b[0m                 \u001b[0mmu\u001b[0m \u001b[0;34m-=\u001b[0m \u001b[0meta\u001b[0m \u001b[0;34m*\u001b[0m \u001b[0mgradient_mu\u001b[0m\u001b[0;34m\u001b[0m\u001b[0;34m\u001b[0m\u001b[0m\n\u001b[1;32m     72\u001b[0m                 \u001b[0mb_u\u001b[0m\u001b[0;34m[\u001b[0m\u001b[0muser\u001b[0m\u001b[0;34m]\u001b[0m \u001b[0;34m-=\u001b[0m \u001b[0meta\u001b[0m \u001b[0;34m*\u001b[0m \u001b[0mgradient_b_u\u001b[0m\u001b[0;34m\u001b[0m\u001b[0;34m\u001b[0m\u001b[0m\n",
      "\u001b[0;32m<ipython-input-87-2656622cada9>\u001b[0m in \u001b[0;36mdJ_sgd\u001b[0;34m(mu, b_u, b_i, U, V, r)\u001b[0m\n\u001b[1;32m     55\u001b[0m         \u001b[0;32mdef\u001b[0m \u001b[0mdJ_sgd\u001b[0m\u001b[0;34m(\u001b[0m\u001b[0mmu\u001b[0m\u001b[0;34m,\u001b[0m \u001b[0mb_u\u001b[0m\u001b[0;34m,\u001b[0m \u001b[0mb_i\u001b[0m\u001b[0;34m,\u001b[0m \u001b[0mU\u001b[0m\u001b[0;34m,\u001b[0m \u001b[0mV\u001b[0m\u001b[0;34m,\u001b[0m \u001b[0mr\u001b[0m\u001b[0;34m)\u001b[0m\u001b[0;34m:\u001b[0m\u001b[0;34m\u001b[0m\u001b[0;34m\u001b[0m\u001b[0m\n\u001b[1;32m     56\u001b[0m             \u001b[0me\u001b[0m \u001b[0;34m=\u001b[0m \u001b[0mr\u001b[0m \u001b[0;34m-\u001b[0m \u001b[0;34m(\u001b[0m\u001b[0mmu\u001b[0m \u001b[0;34m+\u001b[0m \u001b[0mb_u\u001b[0m \u001b[0;34m+\u001b[0m \u001b[0mb_i\u001b[0m \u001b[0;34m+\u001b[0m \u001b[0mU\u001b[0m\u001b[0;34m.\u001b[0m\u001b[0mdot\u001b[0m\u001b[0;34m(\u001b[0m\u001b[0mV\u001b[0m\u001b[0;34m)\u001b[0m\u001b[0;34m)\u001b[0m\u001b[0;34m\u001b[0m\u001b[0;34m\u001b[0m\u001b[0m\n\u001b[0;32m---> 57\u001b[0;31m             \u001b[0;32mreturn\u001b[0m \u001b[0;34m-\u001b[0m\u001b[0me\u001b[0m\u001b[0;34m,\u001b[0m \u001b[0;34m-\u001b[0m\u001b[0me\u001b[0m \u001b[0;34m+\u001b[0m \u001b[0malpha\u001b[0m \u001b[0;34m*\u001b[0m \u001b[0mb_u\u001b[0m\u001b[0;34m,\u001b[0m \u001b[0;34m-\u001b[0m\u001b[0me\u001b[0m \u001b[0;34m+\u001b[0m \u001b[0malpha\u001b[0m \u001b[0;34m*\u001b[0m \u001b[0mb_i\u001b[0m\u001b[0;34m,\u001b[0m \u001b[0;34m-\u001b[0m\u001b[0me\u001b[0m \u001b[0;34m*\u001b[0m \u001b[0mV\u001b[0m \u001b[0;34m+\u001b[0m \u001b[0malpha\u001b[0m \u001b[0;34m*\u001b[0m \u001b[0mU\u001b[0m\u001b[0;34m,\u001b[0m \u001b[0;34m-\u001b[0m\u001b[0me\u001b[0m \u001b[0;34m*\u001b[0m \u001b[0mU\u001b[0m \u001b[0;34m+\u001b[0m \u001b[0malpha\u001b[0m \u001b[0;34m*\u001b[0m \u001b[0mV\u001b[0m\u001b[0;34m\u001b[0m\u001b[0;34m\u001b[0m\u001b[0m\n\u001b[0m\u001b[1;32m     58\u001b[0m \u001b[0;34m\u001b[0m\u001b[0m\n\u001b[1;32m     59\u001b[0m         \u001b[0;32mfor\u001b[0m \u001b[0mcur_iter\u001b[0m \u001b[0;32min\u001b[0m \u001b[0mrange\u001b[0m\u001b[0;34m(\u001b[0m\u001b[0mn_iter\u001b[0m\u001b[0;34m)\u001b[0m\u001b[0;34m:\u001b[0m\u001b[0;34m\u001b[0m\u001b[0;34m\u001b[0m\u001b[0m\n",
      "\u001b[0;31mKeyboardInterrupt\u001b[0m: "
     ],
     "ename": "KeyboardInterrupt",
     "evalue": "",
     "output_type": "error"
    }
   ],
   "source": [
    "%%time\n",
    "rsvd = RegularizedSingularValueDecomposition(records_train, records_test)\n",
    "\n",
    "mu, b_u, b_i, U, V = rsvd.gradient_descent(30)\n",
    "ratings_predict_rsvd = performance(mu, b_u, b_i, U, V, records_test)\n"
   ],
   "metadata": {
    "collapsed": false,
    "pycharm": {
     "name": "#%%\n",
     "is_executing": false
    }
   }
  },
  {
   "cell_type": "code",
   "execution_count": 73,
   "outputs": [
    {
     "data": {
      "text/plain": "[1.9394, 1.5405]"
     },
     "metadata": {},
     "output_type": "execute_result",
     "execution_count": 73
    }
   ],
   "source": [
    "score(np.clip(ratings_predict_rsvd, 1, 5), ratings_test)"
   ],
   "metadata": {
    "collapsed": false,
    "pycharm": {
     "name": "#%%\n",
     "is_executing": false
    }
   }
  },
  {
   "cell_type": "code",
   "execution_count": 11,
   "outputs": [
    {
     "name": "stderr",
     "text": [
      "/Library/Frameworks/Python.framework/Versions/3.7/lib/python3.7/site-packages/ipykernel_launcher.py:28: RuntimeWarning: invalid value encountered in true_divide\n/Library/Frameworks/Python.framework/Versions/3.7/lib/python3.7/site-packages/ipykernel_launcher.py:38: RuntimeWarning: invalid value encountered in true_divide\n"
     ],
     "output_type": "stream"
    },
    {
     "name": "stdout",
     "text": [
      "[1.017, 0.8058]\nGG\n0\n",
      "383\n[1.2812, 0.9907]\n1\n0\n[1.275, 0.9852]\n2\n0\n[1.2751, 0.9853]\n3\n0\n[1.276, 0.9863]\n4\n0\n[1.2759, 0.986]\n5\n0\n[1.276, 0.9861]\n6\n0\n[1.2762, 0.9864]\n7\n0\n[1.2762, 0.9865]\n8\n0\n[1.2762, 0.9865]\n9\n0\n[1.2762, 0.9866]\n10\n0\n",
      "[1.2734, 0.9845]\n11\n0\n[1.2736, 0.9847]\n12\n0\n[1.2737, 0.9848]\n13\n0\n[1.2735, 0.9844]\n14\n0\n[1.2735, 0.9844]\n15\n0\n[1.2735, 0.9845]\n16\n0\n[1.2737, 0.9848]\n17\n0\n[1.2732, 0.9845]\n18\n0\n[1.2731, 0.9843]\n19\n0\n[1.2728, 0.9839]\n20\n0\n[1.2723, 0.9834]\n21\n",
      "0\n[1.2723, 0.9834]\n22\n0\n[1.2721, 0.9831]\n23\n0\n[1.2721, 0.9832]\n24\n0\n[1.2721, 0.9832]\n25\n0\n[1.2722, 0.9834]\n26\n0\n[1.2722, 0.9833]\n27\n0\n[1.2718, 0.9831]\n28\n0\n[1.2717, 0.9829]\n29\n",
      "0\n[1.2717, 0.9829]\n30\n0\n[1.2717, 0.9829]\n31\n0\n[1.2717, 0.9829]\n32\n0\n[1.2717, 0.9829]\n33\n0\n[1.2717, 0.9829]\n34\n0\n[1.2716, 0.9829]\n35\n0\n[1.2716, 0.9829]\n36\n0\n[1.2716, 0.9829]\n37\n0\n[1.2716, 0.9829]\n38\n",
      "0\n[1.2716, 0.9828]\n39\n0\n[1.2714, 0.9827]\n40\n0\n[1.2714, 0.9827]\n41\n0\n[1.2714, 0.9827]\n42\n0\n[1.2714, 0.9826]\n43\n0\n[1.2714, 0.9826]\n44\n0\n[1.2714, 0.9827]\n45\n",
      "0\n[1.2714, 0.9827]\n46\n0\n[1.2713, 0.9826]\n47\n0\n[1.2713, 0.9826]\n48\n0\n[1.2713, 0.9826]\n49\n0\n[1.2713, 0.9826]\n50\n0\n[1.2713, 0.9826]\n51\n0\n[1.2713, 0.9826]\n52\n0\n[1.2713, 0.9826]\n53\n0\n[1.2713, 0.9826]\n54\n",
      "0\n[1.2713, 0.9826]\n55\n0\n[1.2713, 0.9826]\n56\n0\n[1.2713, 0.9826]\n57\n0\n[1.2713, 0.9826]\n58\n0\n[1.2713, 0.9826]\n59\n0\n[1.2713, 0.9826]\n60\n0\n[1.2713, 0.9826]\n61\n",
      "0\n[1.2713, 0.9826]\n62\n0\n[1.2713, 0.9826]\n63\n0\n[1.2713, 0.9826]\n64\n0\n[1.2713, 0.9826]\n65\n0\n[1.2713, 0.9826]\n66\n0\n[1.2713, 0.9826]\n67\n0\n[1.2713, 0.9826]\n68\n0\n[1.2713, 0.9826]\n69\n0\n[1.2713, 0.9826]\nCPU times: user 22.3 s, sys: 4.55 s, total: 26.9 s\nWall time: 4.99 s\n"
     ],
     "output_type": "stream"
    }
   ],
   "source": [
    "%%time\n",
    "mf = MatrixFactorization(records_train, records_test)\n",
    "\n",
    "mf.gradient_descent(70)\n",
    "\n"
   ],
   "metadata": {
    "collapsed": false,
    "pycharm": {
     "name": "#%%\n",
     "is_executing": false
    }
   }
  },
  {
   "cell_type": "code",
   "execution_count": 91,
   "outputs": [
    {
     "name": "stderr",
     "text": [
      "/Library/Frameworks/Python.framework/Versions/3.7/lib/python3.7/site-packages/ipykernel_launcher.py:28: RuntimeWarning: invalid value encountered in true_divide\n/Library/Frameworks/Python.framework/Versions/3.7/lib/python3.7/site-packages/ipykernel_launcher.py:38: RuntimeWarning: invalid value encountered in true_divide\n"
     ],
     "output_type": "stream"
    },
    {
     "name": "stdout",
     "text": [
      "0\n",
      "[0.9581, 0.7543]\n1\n",
      "[0.9568, 0.7536]\n2\n",
      "[0.9561, 0.7528]\n3\n",
      "[0.9562, 0.7526]\n4\n",
      "[0.9556, 0.752]\n5\n",
      "[0.9558, 0.7523]\n6\n"
     ],
     "output_type": "stream"
    },
    {
     "traceback": [
      "\u001b[0;31m---------------------------------------------------------------------------\u001b[0m",
      "\u001b[0;31mKeyboardInterrupt\u001b[0m                         Traceback (most recent call last)",
      "\u001b[0;32m<timed exec>\u001b[0m in \u001b[0;36m<module>\u001b[0;34m\u001b[0m\n",
      "\u001b[0;32m<ipython-input-89-3e814e090b6d>\u001b[0m in \u001b[0;36mgradient_descent\u001b[0;34m(self, n_iter)\u001b[0m\n\u001b[1;32m     68\u001b[0m                 \u001b[0muser\u001b[0m \u001b[0;34m=\u001b[0m \u001b[0musers\u001b[0m\u001b[0;34m[\u001b[0m\u001b[0mi\u001b[0m\u001b[0;34m]\u001b[0m\u001b[0;34m\u001b[0m\u001b[0;34m\u001b[0m\u001b[0m\n\u001b[1;32m     69\u001b[0m                 \u001b[0mitem\u001b[0m \u001b[0;34m=\u001b[0m \u001b[0mitems\u001b[0m\u001b[0;34m[\u001b[0m\u001b[0mi\u001b[0m\u001b[0;34m]\u001b[0m\u001b[0;34m\u001b[0m\u001b[0;34m\u001b[0m\u001b[0m\n\u001b[0;32m---> 70\u001b[0;31m                 \u001b[0mgradient_mu\u001b[0m\u001b[0;34m,\u001b[0m \u001b[0mgradient_b_u\u001b[0m\u001b[0;34m,\u001b[0m \u001b[0mgradient_b_i\u001b[0m\u001b[0;34m,\u001b[0m \u001b[0mgradient_U\u001b[0m\u001b[0;34m,\u001b[0m \u001b[0mgradient_V\u001b[0m \u001b[0;34m=\u001b[0m \u001b[0mdJ_sgd\u001b[0m\u001b[0;34m(\u001b[0m\u001b[0mmu\u001b[0m\u001b[0;34m,\u001b[0m \u001b[0mb_u\u001b[0m\u001b[0;34m[\u001b[0m\u001b[0muser\u001b[0m\u001b[0;34m]\u001b[0m\u001b[0;34m,\u001b[0m \u001b[0mb_i\u001b[0m\u001b[0;34m[\u001b[0m\u001b[0mitem\u001b[0m\u001b[0;34m]\u001b[0m\u001b[0;34m,\u001b[0m \u001b[0mU\u001b[0m\u001b[0;34m[\u001b[0m\u001b[0muser\u001b[0m\u001b[0;34m,\u001b[0m \u001b[0;34m:\u001b[0m\u001b[0;34m]\u001b[0m\u001b[0;34m,\u001b[0m \u001b[0mV\u001b[0m\u001b[0;34m[\u001b[0m\u001b[0mitem\u001b[0m\u001b[0;34m,\u001b[0m \u001b[0;34m:\u001b[0m\u001b[0;34m]\u001b[0m\u001b[0;34m,\u001b[0m \u001b[0mself\u001b[0m\u001b[0;34m.\u001b[0m\u001b[0mR\u001b[0m\u001b[0;34m[\u001b[0m\u001b[0muser\u001b[0m\u001b[0;34m,\u001b[0m \u001b[0mitem\u001b[0m\u001b[0;34m]\u001b[0m\u001b[0;34m)\u001b[0m\u001b[0;34m\u001b[0m\u001b[0;34m\u001b[0m\u001b[0m\n\u001b[0m\u001b[1;32m     71\u001b[0m                 \u001b[0;31m# mu -= eta * gradient_mu\u001b[0m\u001b[0;34m\u001b[0m\u001b[0;34m\u001b[0m\u001b[0;34m\u001b[0m\u001b[0m\n\u001b[1;32m     72\u001b[0m                 \u001b[0mb_u\u001b[0m\u001b[0;34m[\u001b[0m\u001b[0muser\u001b[0m\u001b[0;34m]\u001b[0m \u001b[0;34m-=\u001b[0m \u001b[0meta\u001b[0m \u001b[0;34m*\u001b[0m \u001b[0mgradient_b_u\u001b[0m\u001b[0;34m\u001b[0m\u001b[0;34m\u001b[0m\u001b[0m\n",
      "\u001b[0;31mKeyboardInterrupt\u001b[0m: "
     ],
     "ename": "KeyboardInterrupt",
     "evalue": "",
     "output_type": "error"
    }
   ],
   "source": [
    "%%time\n",
    "nomu = Nomu(records_train, records_test)\n",
    "mu, b_u, b_i, U, V = nomu.gradient_descent(70)"
   ],
   "metadata": {
    "collapsed": false,
    "pycharm": {
     "name": "#%%\n",
     "is_executing": false
    }
   }
  },
  {
   "cell_type": "code",
   "execution_count": null,
   "outputs": [],
   "source": [
    "\n"
   ],
   "metadata": {
    "collapsed": false,
    "pycharm": {
     "name": "#%%\n"
    }
   }
  }
 ],
 "metadata": {
  "kernelspec": {
   "display_name": "Python 3",
   "language": "python",
   "name": "python3"
  },
  "language_info": {
   "codemirror_mode": {
    "name": "ipython",
    "version": 2
   },
   "file_extension": ".py",
   "mimetype": "text/x-python",
   "name": "python",
   "nbconvert_exporter": "python",
   "pygments_lexer": "ipython2",
   "version": "2.7.6"
  },
  "pycharm": {
   "stem_cell": {
    "cell_type": "raw",
    "source": [],
    "metadata": {
     "collapsed": false
    }
   }
  }
 },
 "nbformat": 4,
 "nbformat_minor": 0
}