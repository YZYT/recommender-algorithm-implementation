{
 "cells": [
  {
   "cell_type": "code",
   "execution_count": 1,
   "metadata": {
    "collapsed": true,
    "pycharm": {
     "is_executing": false
    }
   },
   "outputs": [],
   "source": [
    "from math import sqrt\n",
    "from operator import itemgetter\n",
    "\n",
    "import numpy as np\n",
    "from scipy.linalg import svd\n",
    "import matplotlib.pyplot as plt\n",
    "from matplotlib.ticker import MultipleLocator\n",
    "from sklearn import metrics\n"
   ]
  },
  {
   "cell_type": "code",
   "execution_count": 30,
   "outputs": [],
   "source": [
    "class SVDpp:\n",
    "    def __init__(self, records_train, records_test):\n",
    "        records = np.vstack([records_train, records_test])\n",
    "        self.n = len(np.unique(np.sort(records[:, 0])))\n",
    "        self.m = len(np.unique(np.sort(records[:, 1])))\n",
    "\n",
    "        # split explict and implicit feedback\n",
    "        np.random.seed(666)\n",
    "        indexes = np.random.permutation(len(records_train))\n",
    "        records_train_ex = records_train[indexes[:len(indexes) // 2]]\n",
    "        records_train_im = records_train[indexes[len(indexes) // 2:]]\n",
    "\n",
    "        # Initial R\n",
    "        self.R = np.zeros([self.n, self.m], dtype=np.int32)\n",
    "\n",
    "        for record in records_train_ex:\n",
    "            self.R[record[0], record[1]] = record[2]\n",
    "            \n",
    "        # Initial O\n",
    "        self.O = np.zeros([self.n, self.m], dtype=np.int32)\n",
    "        \n",
    "        for record in records_train_im:\n",
    "            self.O[record[0], record[1]] = 1\n",
    "\n",
    "        # Initial indicator\n",
    "        y = np.where(self.R, 1, 0)\n",
    "        y_user = np.sum(y, axis=1)\n",
    "        y_item = np.sum(y, axis=0)\n",
    "\n",
    "        # Global average of rating\n",
    "        self.r = np.sum(self.R) / np.sum(y)\n",
    "\n",
    "        # average rating of user\n",
    "        self.r_u = np.where(y_user,\n",
    "                            np.sum(self.R, axis=1) / y_user,\n",
    "                            self.r)\n",
    "\n",
    "        # average rating of item\n",
    "        self.r_i = np.where(y_item,\n",
    "                            np.sum(self.R, axis=0) / y_item,\n",
    "                            self.r)\n",
    "\n",
    "        # bias of user\n",
    "        self.b_u = np.where(y_user,\n",
    "                            np.sum(y * (self.R - self.r_i), axis=1) / y_user,\n",
    "                            0)\n",
    "\n",
    "        # bias of item\n",
    "        self.b_i = np.where(y_item,\n",
    "                            np.sum(y * (self.R - self.r_u.reshape(-1, 1)), axis=0) / y_item,\n",
    "                            0)\n",
    "        \n",
    "    def gradient_descent(self, n_iter=10):\n",
    "\n",
    "        alpha = 0.01\n",
    "        d = 20\n",
    "        \n",
    "        # Initialize\n",
    "        self.U = (np.random.randint(0, 1, size=(self.n, d)) - 0.5) * 0.01\n",
    "        self.V = (np.random.randint(0, 1, size=(self.m, d)) - 0.5) * 0.01\n",
    "        self.W = (np.random.randint(0, 1, size=(self.m, d)) - 0.5) * 0.01\n",
    "        self.mu = self.r\n",
    " \n",
    "        \n",
    "        eta = 0.05\n",
    "        \n",
    "        def update(user, item, r):\n",
    "            # Calculate neighbours\n",
    "            items_im = np.nonzero(self.O[user])[0]\n",
    "            U_tilde = np.sum(self.W[items_im], axis=0) / sqrt(len(items_im))\n",
    "            \n",
    "            # update\n",
    "            e = r - (self.mu + self.b_u[user] + self.b_i[item] + (self.U[user] + U_tilde).dot(self.V[item]))\n",
    "            d_mu = -e\n",
    "            d_b_u = -e + alpha * self.b_u[user]\n",
    "            d_b_i = -e + alpha * self.b_i[item]\n",
    "            d_U =  -e * self.V[item] + alpha * self.U[user]\n",
    "            d_V = -e * (self.U[user] + U_tilde) + alpha * self.V[item]\n",
    "            d_W = -e / sqrt(len(items_im)) * self.V[item] + alpha * self.W[items_im]\n",
    "            self.mu -= eta * d_mu\n",
    "            self.b_u[user] -= eta * d_b_u\n",
    "            self.b_i[item] -= eta * d_b_i\n",
    "            self.U[user, :] -= eta * d_U\n",
    "            self.V[item, :] -= eta * d_V\n",
    "            self.W[items_im, :] -= eta * d_W\n",
    "        \n",
    "        for cur_iter in range(n_iter):\n",
    "            print(cur_iter)\n",
    "            ratings = np.where(self.R != 0)\n",
    "            num = len(ratings[0])\n",
    "            indexes = np.random.permutation(num)\n",
    "            users = ratings[0][indexes]\n",
    "            items = ratings[1][indexes]\n",
    "\n",
    "            for i in range(num):\n",
    "                user = users[i]\n",
    "                item = items[i]\n",
    "                update(user, item, self.R[user, item])\n",
    "\n",
    "            eta = eta * 0.9\n",
    "            ratings_predict = self.performance()\n",
    "            print(score(np.clip(ratings_predict, 1, 5), ratings_test))\n",
    "\n",
    "        return\n",
    "    \n",
    "    def performance(self):\n",
    "        ratings_predict = np.empty(len(records_test))\n",
    "        U_tilde = np.zeros([self.m ,20])\n",
    "        for user in range(self.n):\n",
    "            items_im = np.nonzero(self.O[user])[0]\n",
    "            if len(items_im):\n",
    "                U_tilde[user] = np.sum(self.W[items_im], axis=0) / sqrt(len(items_im))\n",
    "        \n",
    "        for i in range(len(records_test)):\n",
    "            user = records_test[i][0]\n",
    "            item = records_test[i][1]\n",
    "            rating_predict = self.mu + self.b_u[user] + self.b_i[item] + (self.U[user] + U_tilde[user]).dot(self.V[item])\n",
    "            ratings_predict[i] = rating_predict\n",
    "        return ratings_predict"
   ],
   "metadata": {
    "collapsed": false,
    "pycharm": {
     "name": "#%%\n",
     "is_executing": false
    }
   }
  },
  {
   "cell_type": "code",
   "execution_count": 31,
   "outputs": [],
   "source": [
    "def score(ratings_test, ratings_predict):\n",
    "    return [round(sqrt(metrics.mean_squared_error(ratings_test, ratings_predict)), 4),\n",
    "            round(metrics.mean_absolute_error(ratings_test, ratings_predict), 4)]\n"
   ],
   "metadata": {
    "collapsed": false,
    "pycharm": {
     "name": "#%%\n",
     "is_executing": false
    }
   }
  },
  {
   "cell_type": "code",
   "execution_count": 5,
   "outputs": [
    {
     "name": "stdout",
     "text": [
      "90570\n9430\n"
     ],
     "output_type": "stream"
    }
   ],
   "source": [
    "# Load the records\n",
    "records_train = np.loadtxt('../data/ml-100k/ua.base', dtype=np.int32)\n",
    "records_test = np.loadtxt('../data/ml-100k/ua.test', dtype=np.int32)\n",
    "\n",
    "# Preprocess\n",
    "records_train[:, :2] -= 1\n",
    "records_test[:, :2] -= 1\n",
    "ratings_test = records_test[:, 2]\n",
    "records = np.vstack([records_train, records_test])\n"
   ],
   "metadata": {
    "collapsed": false,
    "pycharm": {
     "name": "#%%\n",
     "is_executing": false
    }
   }
  },
  {
   "cell_type": "code",
   "execution_count": 33,
   "outputs": [
    {
     "name": "stderr",
     "text": [
      "/Library/Frameworks/Python.framework/Versions/3.7/lib/python3.7/site-packages/ipykernel_launcher.py:40: RuntimeWarning: invalid value encountered in true_divide\n/Library/Frameworks/Python.framework/Versions/3.7/lib/python3.7/site-packages/ipykernel_launcher.py:50: RuntimeWarning: invalid value encountered in true_divide\n"
     ],
     "output_type": "stream"
    },
    {
     "name": "stdout",
     "text": [
      "0\n",
      "[1.0015, 0.7826]\n1\n",
      "[1.0218, 0.7869]\n2\n",
      "[0.9954, 0.773]\n3\n",
      "[1.0073, 0.8057]\n4\n",
      "[0.9847, 0.7677]\n5\n",
      "[0.9827, 0.7743]\n6\n",
      "[0.9794, 0.7705]\n7\n",
      "[0.9778, 0.7653]\n8\n",
      "[0.9805, 0.7614]\n9\n",
      "[0.9748, 0.7606]\n10\n",
      "[0.9777, 0.7704]\n11\n",
      "[0.975, 0.7634]\n12\n",
      "[0.9762, 0.7677]\n13\n",
      "[0.9748, 0.7629]\n14\n",
      "[0.9747, 0.7615]\n15\n",
      "[0.9745, 0.7632]\n16\n",
      "[0.9752, 0.7598]\n17\n",
      "[0.9796, 0.7734]\n18\n",
      "[0.9847, 0.7607]\n19\n",
      "[0.9755, 0.7666]\n"
     ],
     "output_type": "stream"
    }
   ],
   "source": [
    "svdpp = SVDpp(records_train, records_test)\n",
    "svdpp.gradient_descent(20)"
   ],
   "metadata": {
    "collapsed": false,
    "pycharm": {
     "name": "#%%\n",
     "is_executing": false
    }
   }
  },
  {
   "cell_type": "code",
   "execution_count": 11,
   "outputs": [],
   "source": [
    "tt = np.array([[1, 2], [3, 4], [5, 6], [7, 8]])"
   ],
   "metadata": {
    "collapsed": false,
    "pycharm": {
     "name": "#%%\n",
     "is_executing": false
    }
   }
  },
  {
   "cell_type": "code",
   "execution_count": 12,
   "outputs": [
    {
     "name": "stdout",
     "text": [
      "[[1 2]\n [3 4]]\n[[5 6]\n [7 8]]\n"
     ],
     "output_type": "stream"
    }
   ],
   "source": [
    "print(tt[:2])\n",
    "print(tt[2:])\n"
   ],
   "metadata": {
    "collapsed": false,
    "pycharm": {
     "name": "#%%\n",
     "is_executing": false
    }
   }
  },
  {
   "cell_type": "code",
   "execution_count": 18,
   "outputs": [
    {
     "data": {
      "text/plain": "array([3, 0, 5, 1, 2, 4])"
     },
     "metadata": {},
     "output_type": "execute_result",
     "execution_count": 18
    }
   ],
   "source": [
    "np.random.seed(666)\n",
    "np.random.permutation(6)\n",
    "\n"
   ],
   "metadata": {
    "collapsed": false,
    "pycharm": {
     "name": "#%%\n",
     "is_executing": false
    }
   }
  },
  {
   "cell_type": "code",
   "execution_count": 29,
   "outputs": [
    {
     "data": {
      "text/plain": "array([0.])"
     },
     "metadata": {},
     "output_type": "execute_result",
     "execution_count": 29
    }
   ],
   "source": [
    "ttt = np.empty(1)\n",
    "\n",
    "ttt"
   ],
   "metadata": {
    "collapsed": false,
    "pycharm": {
     "name": "#%%\n",
     "is_executing": false
    }
   }
  },
  {
   "cell_type": "code",
   "execution_count": null,
   "outputs": [],
   "source": [
    "\n"
   ],
   "metadata": {
    "collapsed": false,
    "pycharm": {
     "name": "#%%\n"
    }
   }
  }
 ],
 "metadata": {
  "kernelspec": {
   "display_name": "Python 3",
   "language": "python",
   "name": "python3"
  },
  "language_info": {
   "codemirror_mode": {
    "name": "ipython",
    "version": 2
   },
   "file_extension": ".py",
   "mimetype": "text/x-python",
   "name": "python",
   "nbconvert_exporter": "python",
   "pygments_lexer": "ipython2",
   "version": "2.7.6"
  },
  "pycharm": {
   "stem_cell": {
    "cell_type": "raw",
    "source": [],
    "metadata": {
     "collapsed": false
    }
   }
  }
 },
 "nbformat": 4,
 "nbformat_minor": 0
}