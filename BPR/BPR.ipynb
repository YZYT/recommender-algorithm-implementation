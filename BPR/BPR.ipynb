{
 "cells": [
  {
   "cell_type": "code",
   "execution_count": 1,
   "outputs": [],
   "source": [
    "from math import sqrt, log, log10, log2\n",
    "from operator import itemgetter\n",
    "\n",
    "import numpy as np\n",
    "from scipy.linalg import svd\n",
    "import matplotlib.pyplot as plt\n",
    "from matplotlib.ticker import MultipleLocator\n",
    "from sklearn import metrics\n"
   ],
   "metadata": {
    "collapsed": false,
    "pycharm": {
     "name": "#%%\n",
     "is_executing": false
    }
   }
  },
  {
   "cell_type": "code",
   "execution_count": 92,
   "outputs": [],
   "source": [
    "class BPR:\n",
    "    def __init__(self, records_train, records_test):\n",
    "        records = np.vstack([records_train, records_test])\n",
    "\n",
    "        self.n = records[:, 0].max() + 1\n",
    "        self.m = records[:, 1].max() + 1\n",
    "        \n",
    "        # Initial R\n",
    "        self.R = np.zeros([self.n, self.m], dtype=bool)\n",
    "        for record in records_train:\n",
    "            if record[2] < 4:\n",
    "                continue\n",
    "            self.R[record[0], record[1]] = True\n",
    "\n",
    "        # Initial R_test\n",
    "        self.R_test = np.zeros([self.n, self.m], dtype=bool)\n",
    "        for record in records_test:\n",
    "            if record[2] < 4:\n",
    "                continue\n",
    "            self.R_test[record[0], record[1]] = True\n",
    "        \n",
    "        # Initial indicator\n",
    "        y = np.where(self.R, 1, 0)\n",
    "        self.y_user = np.sum(y, axis=1)\n",
    "        y_item = np.sum(y, axis=0)\n",
    "        \n",
    "        y_test = np.where(self.R_test, 1, 0)\n",
    "        self.y_user_test = np.sum(y_test, axis=1)\n",
    "        y_item_test = np.sum(y_test, axis=0)\n",
    "\n",
    "        # Global average of rating\n",
    "        self.mu = np.sum(y) / self.n / self.m\n",
    "\n",
    "        # bias of item\n",
    "        self.b_i = np.where(y_item,\n",
    "                            y_item / self.n - self.mu,\n",
    "                            0)\n",
    "     \n",
    "        self.users_test = np.nonzero(self.y_user_test)[0]\n",
    "        \n",
    "        \n",
    "    def gradient_descent(self, n_iter=50):\n",
    "\n",
    "        alpha = 0.01\n",
    "        d = 20\n",
    "        \n",
    "        # Initialize\n",
    "        self.U = (np.random.randint(0, 1, size=(self.n, d)) - 0.5) * 0.01\n",
    "        self.V = (np.random.randint(0, 1, size=(self.m, d)) - 0.5) * 0.01\n",
    "        \n",
    "        \n",
    "        eta = 0.05\n",
    "        \n",
    "        def sigmoid(x):\n",
    "            return 1.0 / (1 + np.exp(-x))\n",
    "        \n",
    "        \n",
    "        def update(user, item_i, item_j):\n",
    "            # update\n",
    "            r_uij = self.predict(user, item_i) - self.predict(user, item_j)\n",
    "            e = -sigmoid(-r_uij)\n",
    "            d_U = e * (self.V[item_i] - self.V[item_j]) + alpha * self.U[user]\n",
    "            d_V_i = e * self.U[user] + alpha * self.V[item_i]\n",
    "            d_V_j = e * (-self.U[user]) + alpha * self.V[item_j]\n",
    "            d_b_i = e + alpha * self.b_i[item_i]\n",
    "            d_b_j = -e + alpha * self.b_i[item_j]\n",
    "            \n",
    "            self.U[user, :] -= eta * d_U\n",
    "            self.V[item_i, :] -= eta * d_V_i\n",
    "            self.V[item_j, :] -= eta * d_V_j\n",
    "            self.b_i[item_i] -= eta * d_b_i\n",
    "            self.b_i[item_j] -= eta * d_b_j\n",
    "            \n",
    "\n",
    "        for cur_iter in range(n_iter):\n",
    "            print(cur_iter)\n",
    "            ratings = np.where(self.R != 0)\n",
    "            num = len(ratings[0])\n",
    "            indexes = np.random.permutation(num)\n",
    "            users = ratings[0][indexes]\n",
    "            items = ratings[1][indexes]\n",
    "\n",
    "            for i in range(num):\n",
    "                user = users[i]\n",
    "                item_i = items[i]\n",
    "                items_j = np.where(self.R[user, :] == 0)[0]\n",
    "                item_j =  items_j[np.random.randint(0, len(items_j))]\n",
    "                update(user, item_i, item_j)\n",
    "                \n",
    "            # eta = eta * 0.9\n",
    "            \n",
    "            # ratings_predict = self.performance()\n",
    "            self.performance()\n",
    "                \n",
    "\n",
    "        return\n",
    "\n",
    "    def predict(self, user, item):\n",
    "        return self.U[user].dot(self.V[item]) + self.b_i[item]\n",
    "                \n",
    "    \n",
    "    def performance(self):\n",
    "        ratings_predict = self.U.dot(self.V.T) + self.b_i\n",
    "        # i_rec = sorted(items, key=lambda x: ratings_predict[x], reverse=True)\n",
    "        self.i_rec = np.zeros([self.n, 5], dtype=np.int32)\n",
    "        for user in range(self.n):\n",
    "            ratings_predict[user, np.where(self.R[user, :] != 0)[0]] = -10\n",
    "            self.i_rec[user] = np.argsort(ratings_predict[user])[::-1][:5]\n",
    "        self.get_pre(self.i_rec)\n",
    "        # self.get_rec(i_rec)\n",
    "    \n",
    "    def get_pre(self, i_rec):\n",
    "        self.pre = 0\n",
    "        self.pre_u = np.zeros(self.n)\n",
    "        for user in self.users_test:\n",
    "            self.pre_u[user] = self.R_test[user, i_rec[user]].sum() / 5\n",
    "            self.pre += self.R_test[user, i_rec[user]].sum() / 5\n",
    "        self.pre /= len(self.users_test)\n",
    "        print(round(self.pre, 4))\n",
    "    \n",
    "    def get_rec(self, i_rec):\n",
    "        self.rec = 0\n",
    "        self.rec_u = np.zeros(self.n)\n",
    "        for user in self.users_test:\n",
    "            self.rec_u[user] = self.R_test[user, i_rec[user]].sum() / self.y_user_test[user].sum()\n",
    "            self.rec += self.R_test[user, i_rec[user]].sum() / self.y_user_test[user].sum()\n",
    "        self.rec /= len(self.users_test)\n",
    "        print(round(self.rec, 4))"
   ],
   "metadata": {
    "collapsed": false,
    "pycharm": {
     "name": "#%%\n",
     "is_executing": false
    }
   }
  },
  {
   "cell_type": "code",
   "execution_count": 93,
   "outputs": [],
   "source": [
    "# Load the records\n",
    "records_train = np.loadtxt('../data/ml-100k/u1.base', dtype=np.int32)\n",
    "records_test = np.loadtxt('../data/ml-100k/u1.test', dtype=np.int32)\n",
    "\n",
    "# Preprocess\n",
    "records_train[:, :2] -= 1\n",
    "records_test[:, :2] -= 1\n"
   ],
   "metadata": {
    "collapsed": false,
    "pycharm": {
     "name": "#%%\n",
     "is_executing": false
    }
   }
  },
  {
   "cell_type": "code",
   "execution_count": 94,
   "outputs": [],
   "source": [
    "bpr = BPR(records_train, records_test)"
   ],
   "metadata": {
    "collapsed": false,
    "pycharm": {
     "name": "#%%\n",
     "is_executing": false
    }
   }
  },
  {
   "cell_type": "code",
   "execution_count": 95,
   "outputs": [
    {
     "name": "stdout",
     "text": [
      "0\n",
      "0.2456\n1\n",
      "0.2263\n2\n",
      "0.2386\n3\n",
      "0.2417\n4\n",
      "0.239\n5\n",
      "0.2487\n6\n",
      "0.243\n7\n",
      "0.2487\n8\n",
      "0.2509\n9\n",
      "0.2425\n10\n",
      "0.2553\n11\n",
      "0.2693\n12\n",
      "0.2614\n13\n",
      "0.2706\n14\n",
      "0.2785\n15\n",
      "0.2741\n16\n",
      "0.2789\n17\n",
      "0.2781\n18\n",
      "0.2807\n19\n",
      "0.2645\n20\n",
      "0.2702\n21\n",
      "0.2772\n22\n",
      "0.2768\n23\n",
      "0.2719\n24\n",
      "0.2772\n25\n",
      "0.2689\n26\n",
      "0.2588\n27\n",
      "0.2851\n28\n"
     ],
     "output_type": "stream"
    },
    {
     "traceback": [
      "\u001b[0;31m---------------------------------------------------------------------------\u001b[0m",
      "\u001b[0;31mKeyboardInterrupt\u001b[0m                         Traceback (most recent call last)",
      "\u001b[0;32m<ipython-input-95-a7289b1a48ac>\u001b[0m in \u001b[0;36m<module>\u001b[0;34m\u001b[0m\n\u001b[0;32m----> 1\u001b[0;31m \u001b[0mbpr\u001b[0m\u001b[0;34m.\u001b[0m\u001b[0mgradient_descent\u001b[0m\u001b[0;34m(\u001b[0m\u001b[0;34m)\u001b[0m\u001b[0;34m\u001b[0m\u001b[0;34m\u001b[0m\u001b[0m\n\u001b[0m",
      "\u001b[0;32m<ipython-input-92-3729c2a583fb>\u001b[0m in \u001b[0;36mgradient_descent\u001b[0;34m(self, n_iter)\u001b[0m\n\u001b[1;32m     86\u001b[0m                 \u001b[0mitems_j\u001b[0m \u001b[0;34m=\u001b[0m \u001b[0mnp\u001b[0m\u001b[0;34m.\u001b[0m\u001b[0mwhere\u001b[0m\u001b[0;34m(\u001b[0m\u001b[0mself\u001b[0m\u001b[0;34m.\u001b[0m\u001b[0mR\u001b[0m\u001b[0;34m[\u001b[0m\u001b[0muser\u001b[0m\u001b[0;34m,\u001b[0m \u001b[0;34m:\u001b[0m\u001b[0;34m]\u001b[0m \u001b[0;34m==\u001b[0m \u001b[0;36m0\u001b[0m\u001b[0;34m)\u001b[0m\u001b[0;34m[\u001b[0m\u001b[0;36m0\u001b[0m\u001b[0;34m]\u001b[0m\u001b[0;34m\u001b[0m\u001b[0;34m\u001b[0m\u001b[0m\n\u001b[1;32m     87\u001b[0m                 \u001b[0mitem_j\u001b[0m \u001b[0;34m=\u001b[0m  \u001b[0mitems_j\u001b[0m\u001b[0;34m[\u001b[0m\u001b[0mnp\u001b[0m\u001b[0;34m.\u001b[0m\u001b[0mrandom\u001b[0m\u001b[0;34m.\u001b[0m\u001b[0mrandint\u001b[0m\u001b[0;34m(\u001b[0m\u001b[0;36m0\u001b[0m\u001b[0;34m,\u001b[0m \u001b[0mlen\u001b[0m\u001b[0;34m(\u001b[0m\u001b[0mitems_j\u001b[0m\u001b[0;34m)\u001b[0m\u001b[0;34m)\u001b[0m\u001b[0;34m]\u001b[0m\u001b[0;34m\u001b[0m\u001b[0;34m\u001b[0m\u001b[0m\n\u001b[0;32m---> 88\u001b[0;31m                 \u001b[0mupdate\u001b[0m\u001b[0;34m(\u001b[0m\u001b[0muser\u001b[0m\u001b[0;34m,\u001b[0m \u001b[0mitem_i\u001b[0m\u001b[0;34m,\u001b[0m \u001b[0mitem_j\u001b[0m\u001b[0;34m)\u001b[0m\u001b[0;34m\u001b[0m\u001b[0;34m\u001b[0m\u001b[0m\n\u001b[0m\u001b[1;32m     89\u001b[0m \u001b[0;34m\u001b[0m\u001b[0m\n\u001b[1;32m     90\u001b[0m             \u001b[0;31m# eta = eta * 0.9\u001b[0m\u001b[0;34m\u001b[0m\u001b[0;34m\u001b[0m\u001b[0;34m\u001b[0m\u001b[0m\n",
      "\u001b[0;32m<ipython-input-92-3729c2a583fb>\u001b[0m in \u001b[0;36mupdate\u001b[0;34m(user, item_i, item_j)\u001b[0m\n\u001b[1;32m     61\u001b[0m             \u001b[0me\u001b[0m \u001b[0;34m=\u001b[0m \u001b[0;34m-\u001b[0m\u001b[0msigmoid\u001b[0m\u001b[0;34m(\u001b[0m\u001b[0;34m-\u001b[0m\u001b[0mr_uij\u001b[0m\u001b[0;34m)\u001b[0m\u001b[0;34m\u001b[0m\u001b[0;34m\u001b[0m\u001b[0m\n\u001b[1;32m     62\u001b[0m             \u001b[0md_U\u001b[0m \u001b[0;34m=\u001b[0m \u001b[0me\u001b[0m \u001b[0;34m*\u001b[0m \u001b[0;34m(\u001b[0m\u001b[0mself\u001b[0m\u001b[0;34m.\u001b[0m\u001b[0mV\u001b[0m\u001b[0;34m[\u001b[0m\u001b[0mitem_i\u001b[0m\u001b[0;34m]\u001b[0m \u001b[0;34m-\u001b[0m \u001b[0mself\u001b[0m\u001b[0;34m.\u001b[0m\u001b[0mV\u001b[0m\u001b[0;34m[\u001b[0m\u001b[0mitem_j\u001b[0m\u001b[0;34m]\u001b[0m\u001b[0;34m)\u001b[0m \u001b[0;34m+\u001b[0m \u001b[0malpha\u001b[0m \u001b[0;34m*\u001b[0m \u001b[0mself\u001b[0m\u001b[0;34m.\u001b[0m\u001b[0mU\u001b[0m\u001b[0;34m[\u001b[0m\u001b[0muser\u001b[0m\u001b[0;34m]\u001b[0m\u001b[0;34m\u001b[0m\u001b[0;34m\u001b[0m\u001b[0m\n\u001b[0;32m---> 63\u001b[0;31m             \u001b[0md_V_i\u001b[0m \u001b[0;34m=\u001b[0m \u001b[0me\u001b[0m \u001b[0;34m*\u001b[0m \u001b[0mself\u001b[0m\u001b[0;34m.\u001b[0m\u001b[0mU\u001b[0m\u001b[0;34m[\u001b[0m\u001b[0muser\u001b[0m\u001b[0;34m]\u001b[0m \u001b[0;34m+\u001b[0m \u001b[0malpha\u001b[0m \u001b[0;34m*\u001b[0m \u001b[0mself\u001b[0m\u001b[0;34m.\u001b[0m\u001b[0mV\u001b[0m\u001b[0;34m[\u001b[0m\u001b[0mitem_i\u001b[0m\u001b[0;34m]\u001b[0m\u001b[0;34m\u001b[0m\u001b[0;34m\u001b[0m\u001b[0m\n\u001b[0m\u001b[1;32m     64\u001b[0m             \u001b[0md_V_j\u001b[0m \u001b[0;34m=\u001b[0m \u001b[0me\u001b[0m \u001b[0;34m*\u001b[0m \u001b[0;34m(\u001b[0m\u001b[0;34m-\u001b[0m\u001b[0mself\u001b[0m\u001b[0;34m.\u001b[0m\u001b[0mU\u001b[0m\u001b[0;34m[\u001b[0m\u001b[0muser\u001b[0m\u001b[0;34m]\u001b[0m\u001b[0;34m)\u001b[0m \u001b[0;34m+\u001b[0m \u001b[0malpha\u001b[0m \u001b[0;34m*\u001b[0m \u001b[0mself\u001b[0m\u001b[0;34m.\u001b[0m\u001b[0mV\u001b[0m\u001b[0;34m[\u001b[0m\u001b[0mitem_j\u001b[0m\u001b[0;34m]\u001b[0m\u001b[0;34m\u001b[0m\u001b[0;34m\u001b[0m\u001b[0m\n\u001b[1;32m     65\u001b[0m             \u001b[0md_b_i\u001b[0m \u001b[0;34m=\u001b[0m \u001b[0me\u001b[0m \u001b[0;34m+\u001b[0m \u001b[0malpha\u001b[0m \u001b[0;34m*\u001b[0m \u001b[0mself\u001b[0m\u001b[0;34m.\u001b[0m\u001b[0mb_i\u001b[0m\u001b[0;34m[\u001b[0m\u001b[0mitem_i\u001b[0m\u001b[0;34m]\u001b[0m\u001b[0;34m\u001b[0m\u001b[0;34m\u001b[0m\u001b[0m\n",
      "\u001b[0;31mKeyboardInterrupt\u001b[0m: "
     ],
     "ename": "KeyboardInterrupt",
     "evalue": "",
     "output_type": "error"
    }
   ],
   "source": [
    "bpr.gradient_descent()"
   ],
   "metadata": {
    "collapsed": false,
    "pycharm": {
     "name": "#%%\n",
     "is_executing": false
    }
   }
  },
  {
   "cell_type": "code",
   "execution_count": 28,
   "outputs": [
    {
     "data": {
      "text/plain": "array([3])"
     },
     "metadata": {},
     "output_type": "execute_result",
     "execution_count": 28
    }
   ],
   "source": [
    "tt = np.array([1, 2, 3, 4, 5, 6])\n",
    "tt[2:4]"
   ],
   "metadata": {
    "collapsed": false,
    "pycharm": {
     "name": "#%%\n",
     "is_executing": false
    }
   }
  },
  {
   "cell_type": "code",
   "execution_count": null,
   "metadata": {
    "collapsed": true
   },
   "outputs": [],
   "source": [
    "\n"
   ]
  }
 ],
 "metadata": {
  "kernelspec": {
   "display_name": "Python 3",
   "language": "python",
   "name": "python3"
  },
  "language_info": {
   "codemirror_mode": {
    "name": "ipython",
    "version": 2
   },
   "file_extension": ".py",
   "mimetype": "text/x-python",
   "name": "python",
   "nbconvert_exporter": "python",
   "pygments_lexer": "ipython2",
   "version": "2.7.6"
  },
  "pycharm": {
   "stem_cell": {
    "cell_type": "raw",
    "source": [],
    "metadata": {
     "collapsed": false
    }
   }
  }
 },
 "nbformat": 4,
 "nbformat_minor": 0
}